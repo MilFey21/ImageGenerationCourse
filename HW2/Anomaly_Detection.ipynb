{
  "cells": [
    {
      "cell_type": "code",
      "execution_count": null,
      "metadata": {
        "id": "Ij1jBAl4y_sN"
      },
      "outputs": [],
      "source": []
    },
    {
      "cell_type": "markdown",
      "metadata": {
        "id": "RNM1zlnTzWkI"
      },
      "source": [
        "# Homework 2: Anomaly Detection"
      ]
    },
    {
      "cell_type": "markdown",
      "metadata": {
        "id": "bUmFJEpZ0HN6"
      },
      "source": [
        "### Imports"
      ]
    },
    {
      "cell_type": "code",
      "execution_count": null,
      "metadata": {
        "id": "NduoIJRXBGrw"
      },
      "outputs": [],
      "source": [
        "# !pip install -r requirements.txt"
      ]
    },
    {
      "cell_type": "code",
      "execution_count": 1,
      "metadata": {
        "colab": {
          "base_uri": "https://localhost:8080/"
        },
        "id": "tmgET5O0_3IY",
        "outputId": "88542955-b7cb-4f5f-c478-f16e638caac0"
      },
      "outputs": [
        {
          "output_type": "stream",
          "name": "stdout",
          "text": [
            "\u001b[?25l   \u001b[90m━━━━━━━━━━━━━━━━━━━━━━━━━━━━━━━━━━━━━━━━\u001b[0m \u001b[32m0.0/1.6 MB\u001b[0m \u001b[31m?\u001b[0m eta \u001b[36m-:--:--\u001b[0m\r\u001b[2K   \u001b[91m━━━━━━━━━━━━━━━━━━━━━━━━━━━━━━━━━━━━━━━\u001b[0m\u001b[91m╸\u001b[0m \u001b[32m1.6/1.6 MB\u001b[0m \u001b[31m48.4 MB/s\u001b[0m eta \u001b[36m0:00:01\u001b[0m\r\u001b[2K   \u001b[90m━━━━━━━━━━━━━━━━━━━━━━━━━━━━━━━━━━━━━━━━\u001b[0m \u001b[32m1.6/1.6 MB\u001b[0m \u001b[31m30.0 MB/s\u001b[0m eta \u001b[36m0:00:00\u001b[0m\n",
            "\u001b[?25h"
          ]
        }
      ],
      "source": [
        "!pip install -q lovely-tensors tensorboard wandb\n"
      ]
    },
    {
      "cell_type": "code",
      "execution_count": 2,
      "metadata": {
        "id": "vRqU55qhAFC0"
      },
      "outputs": [],
      "source": [
        "!pip freeze > requirements.txt"
      ]
    },
    {
      "cell_type": "code",
      "execution_count": null,
      "metadata": {
        "id": "A_aJUbmp0d7U"
      },
      "outputs": [],
      "source": [
        "import torch.nn.functional as F\n",
        "\n",
        "from torch.utils.tensorboard import SummaryWriter\n",
        "import wandb\n",
        "\n"
      ]
    },
    {
      "cell_type": "code",
      "execution_count": 3,
      "metadata": {
        "id": "su_bvQ94VZsD"
      },
      "outputs": [],
      "source": [
        "import os\n",
        "import numpy as np\n",
        "import pandas as pd\n",
        "from PIL import Image\n",
        "import cv2\n",
        "from google.colab import drive\n",
        "import seaborn as sns\n",
        "import matplotlib.pyplot as plt\n",
        "from tqdm.notebook import tqdm\n",
        "\n",
        "import torch\n",
        "import torch.nn as nn\n",
        "import torch.optim as optim\n",
        "import torchvision.models as models\n",
        "from torchvision import transforms\n",
        "from torch.utils.data import DataLoader, Dataset"
      ]
    },
    {
      "cell_type": "code",
      "execution_count": 46,
      "metadata": {
        "id": "qlp_5ockZVGH"
      },
      "outputs": [],
      "source": [
        "from sklearn.metrics import confusion_matrix\n",
        "from sklearn.metrics import accuracy_score, f1_score, precision_score, recall_score"
      ]
    },
    {
      "cell_type": "markdown",
      "metadata": {
        "id": "0d654y5Tzue1"
      },
      "source": [
        "### Loading and preprocessing train data"
      ]
    },
    {
      "cell_type": "code",
      "execution_count": 6,
      "metadata": {
        "colab": {
          "base_uri": "https://localhost:8080/"
        },
        "id": "fLcH8lP8oXKs",
        "outputId": "a1c9af30-587e-4d50-98bf-22b6e4faf6c3"
      },
      "outputs": [
        {
          "output_type": "stream",
          "name": "stdout",
          "text": [
            "Mounted at /content/drive\n"
          ]
        }
      ],
      "source": [
        "drive.mount('/content/drive')\n",
        "\n",
        "import os\n",
        "train_folder_path = '/content/drive/MyDrive/dataset/train'\n",
        "proliv_folder_path = '/content/drive/MyDrive/dataset/proliv'\n",
        "test_folder_path = '/content/drive/MyDrive/dataset/test'"
      ]
    },
    {
      "cell_type": "code",
      "execution_count": 7,
      "metadata": {
        "id": "RfCc9GSjUOFZ"
      },
      "outputs": [],
      "source": [
        "# loading train data\n",
        "images_train = []\n",
        "\n",
        "for filename in os.listdir(train_folder_path):\n",
        "    if filename.endswith('.jpg') or filename.endswith('.png'):\n",
        "        img_path = os.path.join(train_folder_path, filename)\n",
        "        image = Image.open(img_path)\n",
        "        images_train.append(np.array(image))\n",
        "\n",
        "# loading proliv data\n",
        "images_proliv = []\n",
        "\n",
        "for filename in os.listdir(proliv_folder_path):\n",
        "    if filename.endswith('.jpg') or filename.endswith('.png'):\n",
        "        img_path_p = os.path.join(proliv_folder_path, filename)\n",
        "        image_p = Image.open(img_path_p)\n",
        "        images_proliv.append(np.array(image_p))\n",
        "\n"
      ]
    },
    {
      "cell_type": "code",
      "execution_count": 8,
      "metadata": {
        "id": "0cTryYeYULvh"
      },
      "outputs": [],
      "source": [
        "# create PyTorch dataset\n",
        "\n",
        "class TrainDataset(Dataset):\n",
        "    def __init__(self, hf_dataset, transform=None):\n",
        "        self.dataset = hf_dataset\n",
        "        self.transform = transform\n",
        "\n",
        "    def __len__(self):\n",
        "        return len(self.dataset)\n",
        "\n",
        "    def __getitem__(self, idx):\n",
        "        image = self.dataset[idx]\n",
        "        image = Image.fromarray(image)\n",
        "\n",
        "        # Convert PIL image to RGB mode if it's not already\n",
        "        if image.mode != 'RGB':\n",
        "            image = image.convert('RGB')\n",
        "\n",
        "        if self.transform:\n",
        "            image = self.transform(image)\n",
        "\n",
        "        return image\n",
        "\n",
        "# transform to tensor and normalise\n",
        "\n",
        "transform = transforms.Compose([\n",
        "    transforms.Resize((28, 49)),\n",
        "    transforms.Grayscale(num_output_channels=3),\n",
        "    transforms.ToTensor(),\n",
        "    transforms.Normalize(mean=[0.485, 0.456, 0.406], std=[0.229, 0.224, 0.225])\n",
        "])"
      ]
    },
    {
      "cell_type": "code",
      "execution_count": 9,
      "metadata": {
        "id": "zQG_7-PeWFIq"
      },
      "outputs": [],
      "source": [
        "# transform data and define dataloaders\n",
        "\n",
        "train_dataset = TrainDataset(images_train, transform=transform)\n",
        "proliv_dataset = TrainDataset(images_proliv, transform=transform)\n",
        "\n",
        "train_loader = DataLoader(train_dataset, batch_size=32, shuffle=True)\n",
        "proliv_loader = DataLoader(proliv_dataset, batch_size=32, shuffle=True)"
      ]
    },
    {
      "cell_type": "code",
      "execution_count": 10,
      "metadata": {
        "colab": {
          "base_uri": "https://localhost:8080/"
        },
        "id": "mXBFNtxVS-tA",
        "outputId": "821ce6f5-5216-4a26-ce69-84ebcfccfc29"
      },
      "outputs": [
        {
          "output_type": "stream",
          "name": "stdout",
          "text": [
            "torch.Size([32, 3, 28, 49])\n",
            "torch.Size([32, 3, 28, 49])\n"
          ]
        }
      ],
      "source": [
        "print(list(train_loader)[0].shape)\n",
        "print(list(proliv_loader)[0].shape)"
      ]
    },
    {
      "cell_type": "code",
      "execution_count": null,
      "metadata": {
        "id": "XPdibBb7XBbl"
      },
      "outputs": [],
      "source": [
        "# Show samples\n",
        "\n",
        "def show_sample_images(dataset, num_samples=5):\n",
        "    fig, axes = plt.subplots(1, num_samples, figsize=(15, 3))\n",
        "    for i in range(num_samples):\n",
        "        axes[i].imshow(dataset[i])\n",
        "        #axes[i].set_title(f\"Class: normal\")\n",
        "        axes[i].axis('off')\n",
        "    plt.show()"
      ]
    },
    {
      "cell_type": "code",
      "execution_count": null,
      "metadata": {
        "colab": {
          "base_uri": "https://localhost:8080/",
          "height": 79
        },
        "id": "NTmOf6aBXPCM",
        "outputId": "219145eb-a5ea-40fa-f261-d3921331ab60"
      },
      "outputs": [
        {
          "data": {
            "image/png": "[encoded data removed]",
            "text/plain": [
              "<Figure size 1500x300 with 10 Axes>"
            ]
          },
          "metadata": {},
          "output_type": "display_data"
        }
      ],
      "source": [
        "show_sample_images(images_train, 10)"
      ]
    },
    {
      "cell_type": "code",
      "execution_count": null,
      "metadata": {
        "colab": {
          "base_uri": "https://localhost:8080/",
          "height": 79
        },
        "id": "lJsWTo_gYdcz",
        "outputId": "38b62e3b-b39f-4744-824b-a4c4d231b257"
      },
      "outputs": [
        {
          "data": {
            "image/png": "[encoded data removed]",
            "text/plain": [
              "<Figure size 1500x300 with 10 Axes>"
            ]
          },
          "metadata": {},
          "output_type": "display_data"
        }
      ],
      "source": [
        "show_sample_images(images_proliv, 10)"
      ]
    },
    {
      "cell_type": "code",
      "execution_count": null,
      "metadata": {
        "colab": {
          "base_uri": "https://localhost:8080/"
        },
        "id": "L7wyFcpGc_jF",
        "outputId": "577f55e8-beeb-44a7-c08d-729c005107a2"
      },
      "outputs": [
        {
          "name": "stdout",
          "output_type": "stream",
          "text": [
            "The shape of the image is (28, 49, 3)\n"
          ]
        }
      ],
      "source": [
        "image = cv2.imread(os.path.join(proliv_folder_path, filename))\n",
        "print(\"The shape of the image is\", image.shape)"
      ]
    },
    {
      "cell_type": "markdown",
      "metadata": {
        "id": "sFdbMg78Y7o6"
      },
      "source": [
        "# Autoencoder setup"
      ]
    },
    {
      "cell_type": "code",
      "execution_count": 11,
      "metadata": {
        "id": "lHenLk_qY-HL"
      },
      "outputs": [],
      "source": [
        "class DenoisingAutoencoder(nn.Module):\n",
        "    def __init__(self, height, width, num_channels = 3):\n",
        "        super(DenoisingAutoencoder, self).__init__()\n",
        "\n",
        "        # Calculate input dimension\n",
        "        self.input_dim = height * width * num_channels\n",
        "\n",
        "        # Encoder\n",
        "        self.encoder = nn.Sequential(\n",
        "            nn.Linear(self.input_dim, 512),\n",
        "            nn.ReLU(),\n",
        "            nn.Linear(512, 256),\n",
        "            nn.ReLU(),\n",
        "            nn.Linear(256, 128),\n",
        "            nn.ReLU()\n",
        "        )\n",
        "\n",
        "        # Decoder\n",
        "        self.decoder = nn.Sequential(\n",
        "            nn.Linear(128, 256),\n",
        "            nn.ReLU(),\n",
        "            nn.Linear(256, 512),\n",
        "            nn.ReLU(),\n",
        "            nn.Linear(512, self.input_dim),\n",
        "            nn.Sigmoid()\n",
        "        )\n",
        "\n",
        "    def forward(self, x):\n",
        "        # Flatten input\n",
        "        x = x.reshape(x.size(0), -1)\n",
        "        encoded = self.encoder(x)\n",
        "        decoded = self.decoder(encoded)\n",
        "        # Reshape output back\n",
        "        return decoded.view(x.size(0), 3, height, width)\n",
        "\n"
      ]
    },
    {
      "cell_type": "markdown",
      "metadata": {
        "id": "6qRUhT7tY-li"
      },
      "source": [
        "# Model training"
      ]
    },
    {
      "cell_type": "code",
      "execution_count": 35,
      "metadata": {
        "id": "VKL0qvICcRAk"
      },
      "outputs": [],
      "source": [
        "device = torch.device(\"cuda\" if torch.cuda.is_available() else \"cpu\")"
      ]
    },
    {
      "cell_type": "code",
      "execution_count": 13,
      "metadata": {
        "colab": {
          "base_uri": "https://localhost:8080/"
        },
        "id": "q4TpX0cMX-0Q",
        "outputId": "f32b1701-d1fd-401c-e846-3df40de54fa1"
      },
      "outputs": [
        {
          "output_type": "execute_result",
          "data": {
            "text/plain": [
              "28"
            ]
          },
          "metadata": {},
          "execution_count": 13
        }
      ],
      "source": [
        "batch_size, num_channels, height, width = list(train_loader)[0].shape\n",
        "height"
      ]
    },
    {
      "cell_type": "code",
      "execution_count": 40,
      "metadata": {
        "id": "0sHgIS4XZHe_"
      },
      "outputs": [],
      "source": [
        "class AnomalyDetector:\n",
        "    def __init__(self, device=device, height=height, width=width):\n",
        "        self.device = device\n",
        "        self.height = height\n",
        "        self.width = width\n",
        "        self.model = DenoisingAutoencoder(height, width).to(device)\n",
        "        self.threshold = None\n",
        "\n",
        "    def add_noise(self, x, noise_factor=0.3):\n",
        "        noise = torch.randn_like(x) * noise_factor\n",
        "        noisy = x + noise\n",
        "        return torch.clip(noisy, 0., 1.)\n",
        "\n",
        "    def train(self, train_loader, epochs=50, lr=1e-3):\n",
        "        criterion = CombinedLoss(alpha=0.8) #nn.MSELoss()\n",
        "        optimizer = optim.Adam(self.model.parameters(), lr=lr)\n",
        "        loss_history = []\n",
        "\n",
        "        self.model.train()\n",
        "        for epoch in tqdm(range(epochs)):\n",
        "            total_loss = 0\n",
        "            for batch in train_loader:\n",
        "                x = batch.to(self.device)\n",
        "\n",
        "                # Add noise to input\n",
        "                z = self.add_noise(x)\n",
        "\n",
        "                # Forward pass\n",
        "                reconstructed = self.model(z)\n",
        "\n",
        "                # Compute loss\n",
        "                loss = criterion(reconstructed, x)\n",
        "\n",
        "                # Backward pass\n",
        "                optimizer.zero_grad()\n",
        "                loss.backward()\n",
        "                optimizer.step()\n",
        "\n",
        "                total_loss += loss.item()\n",
        "\n",
        "            avg_loss = total_loss / len(train_loader)\n",
        "            loss_history.append(avg_loss)\n",
        "\n",
        "            if (epoch + 1) % 10 == 0:\n",
        "                print(f'Epoch [{epoch+1}/{epochs}], Loss: {avg_loss:.6f}')\n",
        "\n",
        "        # visualize\n",
        "        plt.figure(figsize=(10, 5))\n",
        "        plt.plot(range(len(loss_history)), loss_history, label='Training Loss', color='blue')\n",
        "        plt.title('Training Loss')\n",
        "        plt.xlabel('Epoch')\n",
        "        plt.ylabel('Loss')\n",
        "        plt.xticks(range(len(loss_history)))\n",
        "        plt.grid()\n",
        "        plt.show()\n",
        "\n",
        "\n",
        "    def set_threshold(self, proliv_loader, percentile=95):\n",
        "        self.model.eval()\n",
        "        errors = []\n",
        "\n",
        "        with torch.no_grad():\n",
        "            for batch in tqdm(proliv_loader):\n",
        "                x = batch.to(self.device)\n",
        "                #x = x.view(x.size(0), -1)\n",
        "                reconstructed = self.model(x)\n",
        "                error = torch.mean((x - reconstructed) ** 2, dim=(1,2,3)) #2,3\n",
        "                errors.extend(error.cpu().numpy())\n",
        "\n",
        "        self.threshold = np.mean(errors)\n",
        "        print(f\"Anomaly threshold set to: {self.threshold:.6f}\")\n",
        "\n",
        "    def detect(self, test_loader):\n",
        "        if self.threshold is None:\n",
        "            raise ValueError(\"Threshold not set. Call set_threshold() first.\")\n",
        "\n",
        "        self.model.eval()\n",
        "        all_predictions = []\n",
        "        all_labels = []\n",
        "        all_mse = []\n",
        "        all_reconstructed = []\n",
        "\n",
        "        with torch.no_grad():\n",
        "            for images, labels in test_loader:\n",
        "                images = images.to(self.device)\n",
        "                reconstructed = self.model(images)\n",
        "                mse = torch.mean((images - reconstructed) ** 2, dim=(1, 2, 3))\n",
        "                predictions = (mse > self.threshold).cpu().numpy()\n",
        "\n",
        "                all_predictions.extend(predictions)\n",
        "                all_labels.extend(labels.cpu().numpy())\n",
        "                all_mse.extend(mse.cpu().numpy())\n",
        "                all_reconstructed.append(reconstructed.cpu())\n",
        "\n",
        "        # Convert lists to numpy arrays\n",
        "        all_predictions = np.array(all_predictions)\n",
        "        all_labels = np.array(all_labels)\n",
        "        all_mse = np.array(all_mse)\n",
        "        all_reconstructed = torch.cat(all_reconstructed, dim=0)\n",
        "\n",
        "        # Calculate confusion matrix\n",
        "        tn, fp, fn, tp = confusion_matrix(all_labels, all_predictions).ravel()\n",
        "\n",
        "        # Calculate TPR and TNR\n",
        "        tpr = tp / (tp + fn)\n",
        "        tnr = tn / (tn + fp)\n",
        "\n",
        "        # Calculate other metrics\n",
        "        accuracy = (tp + tn) / (tp + tn + fp + fn)\n",
        "        precision = tp / (tp + fp) if (tp + fp) > 0 else 0\n",
        "        f1 = 2 * (precision * tpr) / (precision + tpr) if (precision + tpr) > 0 else 0\n",
        "\n",
        "        results = {\n",
        "            'predictions': all_predictions,\n",
        "            'labels': all_labels,\n",
        "            'reconstruction_errors': all_mse,\n",
        "            'reconstructed_images': all_reconstructed,\n",
        "            'metrics': {\n",
        "                'true_positive_rate': tpr,\n",
        "                'true_negative_rate': tnr,\n",
        "                'accuracy': accuracy,\n",
        "                'precision': precision,\n",
        "                'f1_score': f1,\n",
        "                'confusion_matrix': {\n",
        "                    'tn': tn,\n",
        "                    'fp': fp,\n",
        "                    'fn': fn,\n",
        "                    'tp': tp\n",
        "                }\n",
        "            }\n",
        "        }\n",
        "\n",
        "        # Print metrics\n",
        "        print(\"\\nEvaluation Metrics:\")\n",
        "        print(f\"True Positive Rate (Sensitivity): {tpr:.4f}\")\n",
        "        print(f\"True Negative Rate (Specificity): {tnr:.4f}\")\n",
        "        print(f\"Accuracy: {accuracy:.4f}\")\n",
        "        print(f\"Precision: {precision:.4f}\")\n",
        "        print(f\"F1 Score: {f1:.4f}\")\n",
        "        print(\"\\nConfusion Matrix:\")\n",
        "        print(f\"True Negatives: {tn}\")\n",
        "        print(f\"False Positives: {fp}\")\n",
        "        print(f\"False Negatives: {fn}\")\n",
        "        print(f\"True Positives: {tp}\")\n",
        "\n",
        "        return results"
      ]
    },
    {
      "cell_type": "code",
      "execution_count": null,
      "metadata": {
        "colab": {
          "background_save": true,
          "base_uri": "https://localhost:8080/",
          "height": 103,
          "referenced_widgets": [
            "5bc5e1815a3c4ef282b84779f9453193",
            "3c2a7fe011054fa3b5468b0b98009195",
            "cd7dcffe3059402faf8b41035d818ea2",
            "887c347abebf4dd485d8eed6b22d471e",
            "3289a8cbbdc14611a9b6f7dc69bd4af1",
            "a5a5ac15bfab48e79a913db51d0e5f0d",
            "5ba06cd3b4314a50ba83d66aee8253b5",
            "a948097b405e4af0a5daf7e0b3c1e968",
            "c21b57007b134ee7890cbfacebae700a",
            "6b9d60bbbfcf4aae80916a64d191ac72",
            "771736efa3f2428eaf8da4b1a558ce4b"
          ]
        },
        "id": "VWTPHPTncyrW",
        "outputId": "5929e1ee-b782-4d6d-b651-772a0e510526"
      },
      "outputs": [
        {
          "data": {
            "application/vnd.jupyter.widget-view+json": {
              "model_id": "5bc5e1815a3c4ef282b84779f9453193",
              "version_major": 2,
              "version_minor": 0
            },
            "text/plain": [
              "  0%|          | 0/50 [00:00<?, ?it/s]"
            ]
          },
          "metadata": {},
          "output_type": "display_data"
        },
        {
          "name": "stdout",
          "output_type": "stream",
          "text": [
            "Epoch [10/50], Loss: 0.012225\n",
            "Epoch [20/50], Loss: 0.011282\n",
            "Epoch [30/50], Loss: 0.010948\n",
            "Epoch [40/50], Loss: 0.010814\n",
            "Epoch [50/50], Loss: 0.010709\n"
          ]
        },
        {
          "data": {
            "image/png": "[encoded data removed]",
            "text/plain": [
              "<Figure size 1000x500 with 1 Axes>"
            ]
          },
          "metadata": {},
          "output_type": "display_data"
        }
      ],
      "source": [
        "detector = AnomalyDetector()\n",
        "detector.train(train_loader, epochs=50)"
      ]
    },
    {
      "cell_type": "code",
      "execution_count": null,
      "metadata": {
        "colab": {
          "base_uri": "https://localhost:8080/",
          "height": 67,
          "referenced_widgets": [
            "8dc61fa5efc3427383428be02bc6c28a",
            "77cb45d7ab204226a1f23b17f327aa8d",
            "64fae59ebe1b4facafe404fb073b6d43",
            "f62fa2fcdde84bd5bef7cf52455a9beb",
            "71cd4a67e2b843208d094b97e83de68e",
            "a0ba18b42d134fe4ae5daec967488575",
            "90865209f248495fa0d79583d7d19e46",
            "e778526d4b3b45ae9229941d391a4921",
            "ca7c52accdfe4fc9ae3926361746b6ff",
            "bcd34f979cad4ae2a9a48696ecb9c3ed",
            "8b5f052b9d6242299c0eb2aa4acc4325"
          ]
        },
        "id": "Ej_1g3bIdxNt",
        "outputId": "0fe9e032-4e4b-42a6-c579-2d438c965018"
      },
      "outputs": [
        {
          "data": {
            "application/vnd.jupyter.widget-view+json": {
              "model_id": "8dc61fa5efc3427383428be02bc6c28a",
              "version_major": 2,
              "version_minor": 0
            },
            "text/plain": [
              "  0%|          | 0/5 [00:00<?, ?it/s]"
            ]
          },
          "metadata": {},
          "output_type": "display_data"
        },
        {
          "name": "stdout",
          "output_type": "stream",
          "text": [
            "Anomaly threshold set to: 0.106169\n"
          ]
        }
      ],
      "source": [
        "detector.set_threshold(proliv_loader) #percentile=95"
      ]
    },
    {
      "cell_type": "markdown",
      "metadata": {
        "id": "-gqpA6CWgEVU"
      },
      "source": [
        "# Evaluate baseline"
      ]
    },
    {
      "cell_type": "markdown",
      "source": [
        "### Loading test data"
      ],
      "metadata": {
        "id": "nqWi07A2Fjdt"
      }
    },
    {
      "cell_type": "code",
      "execution_count": 14,
      "metadata": {
        "id": "3Yw1996vo0Pg"
      },
      "outputs": [],
      "source": [
        "class TestDataset(Dataset):\n",
        "    def __init__(self, images, labels, transform=None):\n",
        "        self.images = images\n",
        "        self.labels = labels\n",
        "        self.transform = transform\n",
        "\n",
        "    def __len__(self):\n",
        "        return len(self.images)\n",
        "\n",
        "    def __getitem__(self, idx):\n",
        "        image = self.images[idx]\n",
        "        label = self.labels[idx]\n",
        "        image = Image.fromarray(image)\n",
        "\n",
        "        # Convert PIL image to RGB mode if it's not already\n",
        "        if image.mode != 'RGB':\n",
        "            image = image.convert('RGB')\n",
        "\n",
        "        if self.transform:\n",
        "            image = self.transform(image)\n",
        "\n",
        "        return image, label\n"
      ]
    },
    {
      "cell_type": "code",
      "execution_count": 15,
      "metadata": {
        "colab": {
          "base_uri": "https://localhost:8080/",
          "height": 49,
          "referenced_widgets": [
            "0d8258eec14643ddb83c444e3de7e146",
            "d17f7ab3d7ac4a748b19616c67c931fb",
            "12bdadd883414d1c9106853391898995",
            "59497e65ecd94c6b81df635b48d64a45",
            "1ec9fe29de5840fe87ca63e207c8afc5",
            "82c6e1102aa54af9bcbafb64dd4273a7",
            "0e8b137c1a264181b6c358bd49117ff6",
            "5ff55a61ceed43baa186824f4d87224c",
            "13c5766488234b0a923ce0656608b21e",
            "50684eb38ad84d3cab4fe981e114f8c2",
            "1b402aeaec204542883181c1d5673aa1"
          ]
        },
        "id": "JaDvWYmHpHKx",
        "outputId": "50f721a0-3364-41d1-d887-1b5d74388302"
      },
      "outputs": [
        {
          "output_type": "display_data",
          "data": {
            "text/plain": [
              "0it [00:00, ?it/s]"
            ],
            "application/vnd.jupyter.widget-view+json": {
              "version_major": 2,
              "version_minor": 0,
              "model_id": "0d8258eec14643ddb83c444e3de7e146"
            }
          },
          "metadata": {}
        }
      ],
      "source": [
        "# loading test data\n",
        "data_txt_path = os.path.join(test_folder_path, 'test_annotation.txt')\n",
        "data = pd.read_csv(data_txt_path, sep=' ', header=None)\n",
        "\n",
        "images = []\n",
        "labels = []\n",
        "\n",
        "for index, row in tqdm(data.iterrows()):\n",
        "    img_path = os.path.join(test_folder_path,'imgs/imgs', row[0])\n",
        "    try:\n",
        "        image = Image.open(img_path).resize((28, 49))\n",
        "        images.append(np.array(image))\n",
        "        labels.append(row[1])\n",
        "    except FileNotFoundError:\n",
        "        print(f\"Warning: Image file not found: {img_path}\")\n"
      ]
    },
    {
      "cell_type": "code",
      "execution_count": 16,
      "metadata": {
        "id": "oQ6ws2m2naAy"
      },
      "outputs": [],
      "source": [
        "# Convert to numpy arrays for easier manipulation\n",
        "test_images = np.array(images)\n",
        "test_labels = np.array(labels)\n",
        "\n",
        "# Create a DataLoader for the test dataset\n",
        "test_dataset = TestDataset(test_images, test_labels, transform=transform)\n",
        "test_loader = DataLoader(test_dataset, batch_size=32, shuffle=False)"
      ]
    },
    {
      "cell_type": "code",
      "execution_count": 20,
      "metadata": {
        "id": "ndEyWFvogLVD"
      },
      "outputs": [],
      "source": [
        "# Data Analysis Functions\n",
        "def analyze_class_distribution(dataset):\n",
        "    labels = [sample[1] for sample in dataset]\n",
        "    unique_labels, counts = np.unique(labels, return_counts=True)\n",
        "\n",
        "    plt.figure(figsize=(10, 6))\n",
        "    sns.barplot(x=unique_labels, y=counts)\n",
        "    plt.title('Class Distribution')\n",
        "    plt.xlabel('Class')\n",
        "    plt.ylabel('Count')\n",
        "    plt.show()\n",
        "\n",
        "    return dict(zip(unique_labels, counts))\n",
        "\n",
        "def show_sample_images(dataset, num_samples=5):\n",
        "    fig, axes = plt.subplots(1, num_samples, figsize=(15, 3))\n",
        "    for i in range(num_samples):\n",
        "        axes[i].imshow(dataset[i]['image'])\n",
        "        axes[i].set_title(f\"Class: {dataset[i]['label']}\")\n",
        "        axes[i].axis('off')\n",
        "    plt.show()\n"
      ]
    },
    {
      "cell_type": "code",
      "source": [
        "analyze_class_distribution(test_dataset)"
      ],
      "metadata": {
        "colab": {
          "base_uri": "https://localhost:8080/",
          "height": 512
        },
        "id": "DmqRiOESK0Kk",
        "outputId": "d4b44253-cfb7-42d2-ad8c-7426d2befd0b"
      },
      "execution_count": 21,
      "outputs": [
        {
          "output_type": "display_data",
          "data": {
            "text/plain": [
              "<Figure size 1000x600 with 1 Axes>"
            ],
            "image/png": "[encoded data removed]"
          },
          "metadata": {}
        },
        {
          "output_type": "execute_result",
          "data": {
            "text/plain": [
              "{0: 3665, 1: 129}"
            ]
          },
          "metadata": {},
          "execution_count": 21
        }
      ]
    },
    {
      "cell_type": "markdown",
      "source": [
        "### Evaluation"
      ],
      "metadata": {
        "id": "jRETpjq9FoIi"
      }
    },
    {
      "cell_type": "code",
      "execution_count": null,
      "metadata": {
        "colab": {
          "base_uri": "https://localhost:8080/"
        },
        "id": "0mYZ6LH1eNpl",
        "outputId": "10937010-62a2-449d-b48c-8411ae7110ce"
      },
      "outputs": [
        {
          "name": "stdout",
          "output_type": "stream",
          "text": [
            "\n",
            "Evaluation Metrics:\n",
            "True Positive Rate (Sensitivity): 0.4109\n",
            "True Negative Rate (Specificity): 0.8903\n",
            "Accuracy: 0.8740\n",
            "Precision: 0.1165\n",
            "F1 Score: 0.1815\n",
            "\n",
            "Confusion Matrix:\n",
            "True Negatives: 3263\n",
            "False Positives: 402\n",
            "False Negatives: 76\n",
            "True Positives: 53\n"
          ]
        }
      ],
      "source": [
        "# Evaluate on test dataset\n",
        "results = detector.detect(test_loader)\n",
        "\n",
        "# Access TPR and TNR\n",
        "tpr = results['metrics']['true_positive_rate']\n",
        "tnr = results['metrics']['true_negative_rate']"
      ]
    },
    {
      "cell_type": "markdown",
      "metadata": {
        "id": "oDpuwwxfZHqj"
      },
      "source": [
        "# Experiments"
      ]
    },
    {
      "cell_type": "markdown",
      "metadata": {
        "id": "Dqxchb-t3gmY"
      },
      "source": [
        "### Advanced threshold logic\n",
        "Using both normal and anomalous validation data to find the optimal threshold:\n",
        "\n",
        "The second approach is more robust because it:\n",
        "\n",
        "- Uses both normal and anomalous samples\n",
        "- Finds the threshold that best separates the two classes\n",
        "- Can optimize for specific metrics (like F1 score)"
      ]
    },
    {
      "cell_type": "code",
      "execution_count": 22,
      "metadata": {
        "id": "ml1KFsuakJNB"
      },
      "outputs": [],
      "source": [
        "from torch.utils.data import DataLoader, Subset\n",
        "\n",
        "total_train_images = len(train_dataset)\n",
        "selected_train_indices = torch.randperm(total_train_images)[:500]\n",
        "\n",
        "# Create a subset of the dataset\n",
        "train_subset = Subset(train_dataset, selected_train_indices)\n",
        "\n",
        "total_proliv_images = len(proliv_dataset)\n",
        "selected_proliv_indices = torch.randperm(total_proliv_images)[:500]  # Randomly select 500 unique indices\n",
        "\n",
        "# Create a subset of the dataset\n",
        "proliv_subset = Subset(proliv_dataset, selected_proliv_indices)\n"
      ]
    },
    {
      "cell_type": "code",
      "execution_count": null,
      "metadata": {
        "colab": {
          "base_uri": "https://localhost:8080/"
        },
        "id": "e4rYrUHNqXTb",
        "outputId": "b9dea4ba-0ea6-4003-8be3-e69ed6d7ae23"
      },
      "outputs": [
        {
          "data": {
            "text/plain": [
              "torch.Size([3, 25, 40])"
            ]
          },
          "execution_count": 91,
          "metadata": {},
          "output_type": "execute_result"
        }
      ],
      "source": [
        "proliv_subset[0].shape"
      ]
    },
    {
      "cell_type": "code",
      "execution_count": null,
      "metadata": {
        "colab": {
          "base_uri": "https://localhost:8080/"
        },
        "id": "d2ysINBRpylO",
        "outputId": "66aedafd-8dde-420f-e185-62c3e7f7faac"
      },
      "outputs": [
        {
          "data": {
            "text/plain": [
              "25"
            ]
          },
          "execution_count": 88,
          "metadata": {},
          "output_type": "execute_result"
        }
      ],
      "source": [
        "num_channels, height, width = train_subset[0].shape"
      ]
    },
    {
      "cell_type": "code",
      "execution_count": 43,
      "metadata": {
        "id": "RY5STX9Dulul"
      },
      "outputs": [],
      "source": [
        "class AnomalyDetector1:\n",
        "    def __init__(self, device=device, parameters=None, height=28, width=49):\n",
        "        self.parameters = parameters\n",
        "        self.device = device\n",
        "        self.height = height\n",
        "        self.width = width\n",
        "        self.model = DenoisingAutoencoder(height, width).to(device)\n",
        "        self.threshold = None\n",
        "\n",
        "    def add_noise(self, x, noise_factor=0.3):\n",
        "        noise = torch.randn_like(x) * noise_factor\n",
        "        noisy = x + noise\n",
        "        return torch.clip(noisy, 0., 1.)\n",
        "\n",
        "    def train(self, train_loader, epochs=50, lr=1e-3):\n",
        "        criterion = nn.MSELoss()\n",
        "        optimizer = optim.Adam(self.model.parameters(), lr=lr)\n",
        "        loss_history = []\n",
        "\n",
        "        self.model.train()\n",
        "        for epoch in tqdm(range(epochs)):\n",
        "            total_loss = 0\n",
        "            for batch in train_loader:\n",
        "                x = batch.to(self.device)\n",
        "\n",
        "                # Add noise to input\n",
        "                z = self.add_noise(x)\n",
        "\n",
        "                # Forward pass\n",
        "                reconstructed = self.model(z)\n",
        "\n",
        "                # Compute loss\n",
        "                loss = criterion(reconstructed, x)\n",
        "\n",
        "                # Backward pass\n",
        "                optimizer.zero_grad()\n",
        "                loss.backward()\n",
        "                optimizer.step()\n",
        "\n",
        "                total_loss += loss.item()\n",
        "\n",
        "            avg_loss = total_loss / len(train_loader)\n",
        "            loss_history.append(avg_loss)\n",
        "\n",
        "            if (epoch + 1) % 10 == 0:\n",
        "                print(f'Epoch [{epoch+1}/{epochs}], Loss: {avg_loss:.6f}')\n",
        "\n",
        "        # visualize\n",
        "        plt.figure(figsize=(10, 5))\n",
        "        plt.plot(range(len(loss_history)), loss_history, label='Training Loss', color='blue')\n",
        "        plt.title('Training Loss')\n",
        "        plt.xlabel('Epoch')\n",
        "        plt.ylabel('Loss')\n",
        "        plt.xticks(range(len(loss_history)))\n",
        "        plt.grid()\n",
        "        plt.show()\n",
        "\n",
        "    def set_optimal_threshold(self, normal_val_data, anomaly_val_data):\n",
        "        \"\"\"Find threshold that maximizes separation between normal and anomaly data\"\"\"\n",
        "        self.model.eval()\n",
        "        normal_errors = []\n",
        "        anomaly_errors = []\n",
        "\n",
        "        # Get reconstruction errors for normal data\n",
        "        with torch.no_grad():\n",
        "            for batch in DataLoader(normal_val_data, batch_size=32):\n",
        "                x = batch.to(self.device)\n",
        "                reconstructed = self.model(x)\n",
        "                error = torch.mean((x - reconstructed) ** 2, dim=(1, 2, 3))\n",
        "                normal_errors.extend(error.cpu().numpy())\n",
        "\n",
        "        # Get reconstruction errors for anomalous data\n",
        "        with torch.no_grad():\n",
        "            for batch in DataLoader(anomaly_val_data, batch_size=32):\n",
        "                x = batch.to(self.device)\n",
        "                reconstructed = self.model(x)\n",
        "                error = torch.mean((x - reconstructed) ** 2, dim=(1, 2, 3))\n",
        "                anomaly_errors.extend(error.cpu().numpy())\n",
        "\n",
        "        # Find threshold that maximizes separation\n",
        "        all_errors = np.concatenate([normal_errors, anomaly_errors])\n",
        "        all_labels = np.concatenate([np.zeros_like(normal_errors), np.ones_like(anomaly_errors)])\n",
        "\n",
        "        best_f1 = 0\n",
        "        best_threshold = 0\n",
        "\n",
        "        for threshold in all_errors:\n",
        "            predictions = (all_errors > threshold).astype(int)\n",
        "            f1 = f1_score(all_labels, predictions)\n",
        "            if f1 > best_f1:\n",
        "                best_f1 = f1\n",
        "                best_threshold = threshold\n",
        "\n",
        "        self.threshold = best_threshold\n",
        "        print(f\"Anomaly threshold set to: {self.threshold:.6f}\")\n",
        "\n",
        "    def detect(self, test_loader):\n",
        "        if self.threshold is None:\n",
        "            raise ValueError(\"Threshold not set. Call set_threshold() first.\")\n",
        "\n",
        "        self.model.eval()\n",
        "        all_predictions = []\n",
        "        all_labels = []\n",
        "        all_mse = []\n",
        "        all_reconstructed = []\n",
        "\n",
        "        with torch.no_grad():\n",
        "            for images, labels in test_loader:\n",
        "                images = images.to(self.device)\n",
        "                reconstructed = self.model(images)\n",
        "                mse = torch.mean((images - reconstructed) ** 2, dim=(1, 2, 3))\n",
        "                predictions = (mse > self.threshold).cpu().numpy()\n",
        "\n",
        "                all_predictions.extend(predictions)\n",
        "                all_labels.extend(labels.cpu().numpy())\n",
        "                all_mse.extend(mse.cpu().numpy())\n",
        "                all_reconstructed.append(reconstructed.cpu())\n",
        "\n",
        "        # Convert lists to numpy arrays\n",
        "        all_predictions = np.array(all_predictions)\n",
        "        all_labels = np.array(all_labels)\n",
        "        all_mse = np.array(all_mse)\n",
        "        all_reconstructed = torch.cat(all_reconstructed, dim=0)\n",
        "\n",
        "        # Calculate confusion matrix\n",
        "        tn, fp, fn, tp = confusion_matrix(all_labels, all_predictions).ravel()\n",
        "\n",
        "        # Calculate TPR and TNR\n",
        "        tpr = tp / (tp + fn)\n",
        "        tnr = tn / (tn + fp)\n",
        "\n",
        "        # Calculate other metrics\n",
        "        accuracy = (tp + tn) / (tp + tn + fp + fn)\n",
        "        precision = tp / (tp + fp) if (tp + fp) > 0 else 0\n",
        "        f1 = 2 * (precision * tpr) / (precision + tpr) if (precision + tpr) > 0 else 0\n",
        "\n",
        "        results = {\n",
        "            'predictions': all_predictions,\n",
        "            'labels': all_labels,\n",
        "            'reconstruction_errors': all_mse,\n",
        "            'reconstructed_images': all_reconstructed,\n",
        "            'metrics': {\n",
        "                'true_positive_rate': tpr,\n",
        "                'true_negative_rate': tnr,\n",
        "                'accuracy': accuracy,\n",
        "                'precision': precision,\n",
        "                'f1_score': f1,\n",
        "                'confusion_matrix': {\n",
        "                    'tn': tn,\n",
        "                    'fp': fp,\n",
        "                    'fn': fn,\n",
        "                    'tp': tp\n",
        "                }\n",
        "            }\n",
        "        }\n",
        "\n",
        "        # Print metrics\n",
        "        print(\"\\nEvaluation Metrics:\")\n",
        "        print(f\"True Positive Rate (Sensitivity): {tpr:.4f}\")\n",
        "        print(f\"True Negative Rate (Specificity): {tnr:.4f}\")\n",
        "        print(f\"Accuracy: {accuracy:.4f}\")\n",
        "        print(f\"Precision: {precision:.4f}\")\n",
        "        print(f\"F1 Score: {f1:.4f}\")\n",
        "        print(\"\\nConfusion Matrix:\")\n",
        "        print(f\"True Negatives: {tn}\")\n",
        "        print(f\"False Positives: {fp}\")\n",
        "        print(f\"False Negatives: {fn}\")\n",
        "        print(f\"True Positives: {tp}\")\n",
        "\n",
        "        return results"
      ]
    },
    {
      "cell_type": "code",
      "execution_count": null,
      "metadata": {
        "colab": {
          "base_uri": "https://localhost:8080/"
        },
        "id": "dk36X2esp7bk",
        "outputId": "0d073bf7-dc8e-40be-d768-30fa5b7b0ed5"
      },
      "outputs": [
        {
          "name": "stdout",
          "output_type": "stream",
          "text": [
            "Anomaly threshold set to: 0.187403\n"
          ]
        }
      ],
      "source": [
        "from sklearn.metrics import precision_score, recall_score, f1_score\n",
        "\n",
        "detector = AnomalyDetector1()\n",
        "detector.set_optimal_threshold(train_subset, proliv_subset)"
      ]
    },
    {
      "cell_type": "code",
      "execution_count": null,
      "metadata": {
        "colab": {
          "base_uri": "https://localhost:8080/"
        },
        "id": "OOXFZUQasPbD",
        "outputId": "d207cb27-9e4a-4735-9a0f-151a1f6b66e9"
      },
      "outputs": [
        {
          "name": "stdout",
          "output_type": "stream",
          "text": [
            "\n",
            "Evaluation Metrics:\n",
            "True Positive Rate (Sensitivity): 0.8837\n",
            "True Negative Rate (Specificity): 0.6273\n",
            "Accuracy: 0.6360\n",
            "Precision: 0.0770\n",
            "F1 Score: 0.1417\n",
            "\n",
            "Confusion Matrix:\n",
            "True Negatives: 2299\n",
            "False Positives: 1366\n",
            "False Negatives: 15\n",
            "True Positives: 114\n"
          ]
        }
      ],
      "source": [
        "# Evaluate on test dataset\n",
        "results = detector.detect(test_loader)\n",
        "\n",
        "# Access TPR and TNR\n",
        "tpr = results['metrics']['true_positive_rate']\n",
        "tnr = results['metrics']['true_negative_rate']"
      ]
    },
    {
      "cell_type": "markdown",
      "metadata": {
        "id": "GwhSIjP4s1JC"
      },
      "source": [
        "### Combined loss"
      ]
    },
    {
      "cell_type": "code",
      "execution_count": 24,
      "metadata": {
        "id": "bwER9BXFs0iF"
      },
      "outputs": [],
      "source": [
        "class CombinedLoss(nn.Module):\n",
        "    def __init__(self, alpha=0.8):\n",
        "        super(CombinedLoss, self).__init__()\n",
        "        self.alpha = alpha\n",
        "        self.mse = nn.MSELoss()\n",
        "        self.l1 = nn.L1Loss()\n",
        "\n",
        "    def forward(self, pred, target):\n",
        "        mse_loss = self.mse(pred, target)\n",
        "        l1_loss = self.l1(pred, target)\n",
        "        return self.alpha * mse_loss + (1 - self.alpha) * l1_loss"
      ]
    },
    {
      "cell_type": "code",
      "execution_count": 38,
      "metadata": {
        "id": "gWzcdWJGtFel"
      },
      "outputs": [],
      "source": [
        "def train_with_scheduler(model, train_loader, epochs=50, device=device):\n",
        "    model_to_train = model.model\n",
        "    criterion = CombinedLoss(alpha=0.8)\n",
        "    optimizer = torch.optim.AdamW(model_to_train.parameters(), lr=1e-3)\n",
        "    scheduler = torch.optim.lr_scheduler.ReduceLROnPlateau(\n",
        "        optimizer, mode='min', factor=0.5, patience=5, verbose=True\n",
        "    )\n",
        "    loss_history = []\n",
        "\n",
        "    for epoch in tqdm(range(epochs)):\n",
        "        model_to_train.train()\n",
        "        total_loss = 0\n",
        "\n",
        "        for batch in train_loader:\n",
        "            x = batch.to(device)\n",
        "            optimizer.zero_grad()\n",
        "            reconstructed = model_to_train(x)\n",
        "            loss = criterion(reconstructed, x)\n",
        "            loss.backward()\n",
        "            optimizer.step()\n",
        "            total_loss += loss.item()\n",
        "\n",
        "        avg_loss = total_loss / len(train_loader)\n",
        "        scheduler.step(avg_loss)\n",
        "        loss_history.append(avg_loss)\n",
        "\n",
        "        if (epoch + 1) % 10 == 0:\n",
        "            print(f'Epoch [{epoch+1}/{epochs}], Loss: {avg_loss:.6f}')\n",
        "\n",
        "    # visualize\n",
        "    plt.figure(figsize=(10, 5))\n",
        "    plt.plot(range(len(loss_history)), loss_history, label='Training Loss', color='blue')\n",
        "    plt.title('Training Loss')\n",
        "    plt.xlabel('Batch')\n",
        "    plt.ylabel('Loss')\n",
        "    plt.xticks(range(len(loss_history)))\n",
        "    plt.grid()\n",
        "    plt.show()\n",
        "\n",
        "    return model"
      ]
    },
    {
      "cell_type": "code",
      "execution_count": null,
      "metadata": {
        "colab": {
          "base_uri": "https://localhost:8080/",
          "height": 608,
          "referenced_widgets": [
            "9655736d61d5409d96ae2618cb462836",
            "3ffef950d52640c9b9d95803b9aba687",
            "7baf096244dd486fa5c1f4e4ac5296af",
            "930e09460db346bdb255d885cb1fd256",
            "7d42e2c265d5487abfaafed358000afb",
            "92bbd4ca81be4c03b557eb1c27830f9e",
            "f82fbf2c75be476eb9ce109c26cf7f5b",
            "f4db38e8f31747bba4f8ed01648e16ed",
            "984e06bb003a44579938c8d6af6cd112",
            "2abdf9609c404277aa833f608b1a5b80",
            "b9821473373f4c488daed3b96265db20"
          ]
        },
        "id": "hiFr4aYOt3UF",
        "outputId": "1fef1287-4e0e-4451-e101-b5fcb2f574e9"
      },
      "outputs": [
        {
          "data": {
            "application/vnd.jupyter.widget-view+json": {
              "model_id": "9655736d61d5409d96ae2618cb462836",
              "version_major": 2,
              "version_minor": 0
            },
            "text/plain": [
              "  0%|          | 0/50 [00:00<?, ?it/s]"
            ]
          },
          "metadata": {},
          "output_type": "display_data"
        },
        {
          "name": "stdout",
          "output_type": "stream",
          "text": [
            "Epoch [10/50], Loss: 0.012489\n",
            "Epoch [20/50], Loss: 0.011368\n",
            "Epoch [30/50], Loss: 0.010983\n",
            "Epoch [40/50], Loss: 0.010810\n",
            "Epoch [50/50], Loss: 0.010701\n"
          ]
        },
        {
          "data": {
            "image/png": "[encoded data removed]",
            "text/plain": [
              "<Figure size 1000x500 with 1 Axes>"
            ]
          },
          "metadata": {},
          "output_type": "display_data"
        }
      ],
      "source": [
        "detector = AnomalyDetector1()\n",
        "detector.train(train_loader, epochs=50)"
      ]
    },
    {
      "cell_type": "code",
      "execution_count": null,
      "metadata": {
        "colab": {
          "base_uri": "https://localhost:8080/"
        },
        "id": "PwJ-o-u1uO00",
        "outputId": "fdb7f4b5-50be-4101-966b-7a3f3121381c"
      },
      "outputs": [
        {
          "name": "stdout",
          "output_type": "stream",
          "text": [
            "Anomaly threshold set to: 0.079760\n"
          ]
        }
      ],
      "source": [
        "detector.set_optimal_threshold(train_subset, proliv_subset)"
      ]
    },
    {
      "cell_type": "code",
      "execution_count": null,
      "metadata": {
        "colab": {
          "base_uri": "https://localhost:8080/"
        },
        "id": "UZMk7e3ruUgy",
        "outputId": "782c8590-c532-434c-df85-740c64dccaf0"
      },
      "outputs": [
        {
          "name": "stdout",
          "output_type": "stream",
          "text": [
            "\n",
            "Evaluation Metrics:\n",
            "True Positive Rate (Sensitivity): 0.7674\n",
            "True Negative Rate (Specificity): 0.7858\n",
            "Accuracy: 0.7852\n",
            "Precision: 0.1120\n",
            "F1 Score: 0.1955\n",
            "\n",
            "Confusion Matrix:\n",
            "True Negatives: 2880\n",
            "False Positives: 785\n",
            "False Negatives: 30\n",
            "True Positives: 99\n"
          ]
        }
      ],
      "source": [
        "# Evaluate on test dataset\n",
        "results = detector.detect(test_loader)\n",
        "\n",
        "# Access TPR and TNR\n",
        "tpr = results['metrics']['true_positive_rate']\n",
        "tnr = results['metrics']['true_negative_rate']"
      ]
    },
    {
      "cell_type": "markdown",
      "metadata": {
        "id": "cQBDiSiWuWrn"
      },
      "source": [
        "### Increase number of epochs"
      ]
    },
    {
      "cell_type": "code",
      "execution_count": null,
      "metadata": {
        "colab": {
          "background_save": true,
          "base_uri": "https://localhost:8080/",
          "height": 210,
          "referenced_widgets": [
            "82dba8f4dd3d4256a425ca0fd5b76555",
            "e75ecc1e64eb48c281ce99179f5e0560",
            "8a4dff93a87a4c93bbc4628323b558b8",
            "926fe2ea50294576989910bc19e0aadf",
            "6b640b4a4493491a96075017f1ded4e1",
            "99ed2e90daf64df2a4b2980be4b5b6b1",
            "cd5bba25cfcb4f2ab6a98d53820cd563",
            "7667461da86441d9b0794c83bd4b093e",
            "94cc459833c0430aa9f2832183af5840",
            "c50c99ca61ad436099205ee904dfb087",
            "7bd4a9d68462466a9d536bc0d80af72d"
          ]
        },
        "id": "yOwxw9XAubR4",
        "outputId": "1f96574b-98c2-4b7b-d9a4-953bbf9b9be5"
      },
      "outputs": [
        {
          "data": {
            "application/vnd.jupyter.widget-view+json": {
              "model_id": "82dba8f4dd3d4256a425ca0fd5b76555",
              "version_major": 2,
              "version_minor": 0
            },
            "text/plain": [
              "  0%|          | 0/100 [00:00<?, ?it/s]"
            ]
          },
          "metadata": {},
          "output_type": "display_data"
        },
        {
          "name": "stdout",
          "output_type": "stream",
          "text": [
            "Epoch [10/100], Loss: 0.012540\n",
            "Epoch [20/100], Loss: 0.011387\n",
            "Epoch [30/100], Loss: 0.011014\n",
            "Epoch [40/100], Loss: 0.010833\n",
            "Epoch [50/100], Loss: 0.010722\n",
            "Epoch [60/100], Loss: 0.010687\n",
            "Epoch [70/100], Loss: 0.010611\n",
            "Epoch [80/100], Loss: 0.010569\n",
            "Epoch [90/100], Loss: 0.010518\n",
            "Epoch [100/100], Loss: 0.010524\n"
          ]
        },
        {
          "data": {
            "image/png": "[encoded data removed]",
            "text/plain": [
              "<Figure size 1000x500 with 1 Axes>"
            ]
          },
          "metadata": {},
          "output_type": "display_data"
        }
      ],
      "source": [
        "detector = AnomalyDetector1()\n",
        "detector.train(train_loader, epochs=100)"
      ]
    },
    {
      "cell_type": "code",
      "execution_count": 111,
      "metadata": {
        "id": "bE-2bWQ20Fis",
        "colab": {
          "base_uri": "https://localhost:8080/"
        },
        "outputId": "3cc6ea33-38b8-4a63-dc03-f70c54704177"
      },
      "outputs": [
        {
          "output_type": "stream",
          "name": "stdout",
          "text": [
            "Anomaly threshold set to: 0.076927\n"
          ]
        }
      ],
      "source": [
        "detector.set_optimal_threshold(train_subset, proliv_subset)"
      ]
    },
    {
      "cell_type": "code",
      "execution_count": 112,
      "metadata": {
        "id": "MWTYSz4SunBw",
        "colab": {
          "base_uri": "https://localhost:8080/"
        },
        "outputId": "1d477f60-299c-412e-a768-7cb978a6c7f0"
      },
      "outputs": [
        {
          "output_type": "stream",
          "name": "stdout",
          "text": [
            "\n",
            "Evaluation Metrics:\n",
            "True Positive Rate (Sensitivity): 0.7752\n",
            "True Negative Rate (Specificity): 0.7261\n",
            "Accuracy: 0.7277\n",
            "Precision: 0.0906\n",
            "F1 Score: 0.1622\n",
            "\n",
            "Confusion Matrix:\n",
            "True Negatives: 2661\n",
            "False Positives: 1004\n",
            "False Negatives: 29\n",
            "True Positives: 100\n"
          ]
        }
      ],
      "source": [
        "# Evaluate on test dataset\n",
        "results = detector.detect(test_loader)\n",
        "\n",
        "# Access TPR and TNR\n",
        "tpr = results['metrics']['true_positive_rate']\n",
        "tnr = results['metrics']['true_negative_rate']"
      ]
    },
    {
      "cell_type": "markdown",
      "source": [
        "### Number of epochs to 70"
      ],
      "metadata": {
        "id": "opKJEGBPnBOC"
      }
    },
    {
      "cell_type": "code",
      "source": [
        "detector = AnomalyDetector1()\n",
        "detector.train(train_loader, epochs=70)"
      ],
      "metadata": {
        "colab": {
          "base_uri": "https://localhost:8080/",
          "height": 578,
          "referenced_widgets": [
            "2f7ee2911ca64c788f58846c63df3b7d",
            "c25ad40a3a9547df81bf520a2639f2d9",
            "9871eeeac7e643b8bf2fcb14b590a92b",
            "05d7110c907b4827bcea391082b7dd5f",
            "6514e9848aa9486f8516e93fb0415980",
            "df188165512c4eb592005399604e1a15",
            "37557bfd2c9a4004ae6dceee67eb9729",
            "9cf8b258acfb4ab9bffb89f92388567b",
            "4ccf13c26d9f4d1ead362ed0c8473786",
            "add4cc9b207a4d64b19da0af45efbbd6",
            "5cb604100db647fc9f7bff664341ae9a"
          ]
        },
        "id": "ztwOvDqmM_91",
        "outputId": "04b0ba27-7a30-4b00-ae19-015a32859176"
      },
      "execution_count": 44,
      "outputs": [
        {
          "output_type": "display_data",
          "data": {
            "text/plain": [
              "  0%|          | 0/70 [00:00<?, ?it/s]"
            ],
            "application/vnd.jupyter.widget-view+json": {
              "version_major": 2,
              "version_minor": 0,
              "model_id": "2f7ee2911ca64c788f58846c63df3b7d"
            }
          },
          "metadata": {}
        },
        {
          "output_type": "stream",
          "name": "stdout",
          "text": [
            "Epoch [10/70], Loss: 0.012550\n",
            "Epoch [20/70], Loss: 0.011656\n",
            "Epoch [30/70], Loss: 0.011262\n",
            "Epoch [40/70], Loss: 0.011100\n",
            "Epoch [50/70], Loss: 0.010933\n",
            "Epoch [60/70], Loss: 0.010897\n",
            "Epoch [70/70], Loss: 0.010841\n"
          ]
        },
        {
          "output_type": "display_data",
          "data": {
            "text/plain": [
              "<Figure size 1000x500 with 1 Axes>"
            ],
            "image/png": "[encoded data removed]"
          },
          "metadata": {}
        }
      ]
    },
    {
      "cell_type": "code",
      "source": [
        "detector.set_optimal_threshold(train_subset, proliv_subset)"
      ],
      "metadata": {
        "colab": {
          "base_uri": "https://localhost:8080/"
        },
        "id": "hwr8QCylPe7a",
        "outputId": "c3433a56-42b2-4e1b-976a-3c7840095943"
      },
      "execution_count": 47,
      "outputs": [
        {
          "output_type": "stream",
          "name": "stdout",
          "text": [
            "Anomaly threshold set to: 0.085854\n"
          ]
        }
      ]
    },
    {
      "cell_type": "code",
      "source": [
        "# Evaluate on test dataset\n",
        "results = detector.detect(test_loader)\n",
        "\n",
        "# Access TPR and TNR\n",
        "tpr = results['metrics']['true_positive_rate']\n",
        "tnr = results['metrics']['true_negative_rate']"
      ],
      "metadata": {
        "colab": {
          "base_uri": "https://localhost:8080/"
        },
        "id": "VBYqk2NXPi-c",
        "outputId": "4811c035-5fbf-4adc-cbdb-a44f0ef29255"
      },
      "execution_count": 48,
      "outputs": [
        {
          "output_type": "stream",
          "name": "stdout",
          "text": [
            "\n",
            "Evaluation Metrics:\n",
            "True Positive Rate (Sensitivity): 0.7829\n",
            "True Negative Rate (Specificity): 0.8554\n",
            "Accuracy: 0.8529\n",
            "Precision: 0.1601\n",
            "F1 Score: 0.2658\n",
            "\n",
            "Confusion Matrix:\n",
            "True Negatives: 3135\n",
            "False Positives: 530\n",
            "False Negatives: 28\n",
            "True Positives: 101\n"
          ]
        }
      ]
    }
  ],
  "metadata": {
    "colab": {
      "provenance": [],
      "toc_visible": true
    },
    "kernelspec": {
      "display_name": "Python 3",
      "name": "python3"
    },
    "language_info": {
      "name": "python"
    },
    "widgets": {
      "application/vnd.jupyter.widget-state+json": {
        "2abdf9609c404277aa833f608b1a5b80": {
          "model_module": "@jupyter-widgets/base",
          "model_module_version": "1.2.0",
          "model_name": "LayoutModel",
          "state": {
            "_model_module": "@jupyter-widgets/base",
            "_model_module_version": "1.2.0",
            "_model_name": "LayoutModel",
            "_view_count": null,
            "_view_module": "@jupyter-widgets/base",
            "_view_module_version": "1.2.0",
            "_view_name": "LayoutView",
            "align_content": null,
            "align_items": null,
            "align_self": null,
            "border": null,
            "bottom": null,
            "display": null,
            "flex": null,
            "flex_flow": null,
            "grid_area": null,
            "grid_auto_columns": null,
            "grid_auto_flow": null,
            "grid_auto_rows": null,
            "grid_column": null,
            "grid_gap": null,
            "grid_row": null,
            "grid_template_areas": null,
            "grid_template_columns": null,
            "grid_template_rows": null,
            "height": null,
            "justify_content": null,
            "justify_items": null,
            "left": null,
            "margin": null,
            "max_height": null,
            "max_width": null,
            "min_height": null,
            "min_width": null,
            "object_fit": null,
            "object_position": null,
            "order": null,
            "overflow": null,
            "overflow_x": null,
            "overflow_y": null,
            "padding": null,
            "right": null,
            "top": null,
            "visibility": null,
            "width": null
          }
        },
        "3289a8cbbdc14611a9b6f7dc69bd4af1": {
          "model_module": "@jupyter-widgets/base",
          "model_module_version": "1.2.0",
          "model_name": "LayoutModel",
          "state": {
            "_model_module": "@jupyter-widgets/base",
            "_model_module_version": "1.2.0",
            "_model_name": "LayoutModel",
            "_view_count": null,
            "_view_module": "@jupyter-widgets/base",
            "_view_module_version": "1.2.0",
            "_view_name": "LayoutView",
            "align_content": null,
            "align_items": null,
            "align_self": null,
            "border": null,
            "bottom": null,
            "display": null,
            "flex": null,
            "flex_flow": null,
            "grid_area": null,
            "grid_auto_columns": null,
            "grid_auto_flow": null,
            "grid_auto_rows": null,
            "grid_column": null,
            "grid_gap": null,
            "grid_row": null,
            "grid_template_areas": null,
            "grid_template_columns": null,
            "grid_template_rows": null,
            "height": null,
            "justify_content": null,
            "justify_items": null,
            "left": null,
            "margin": null,
            "max_height": null,
            "max_width": null,
            "min_height": null,
            "min_width": null,
            "object_fit": null,
            "object_position": null,
            "order": null,
            "overflow": null,
            "overflow_x": null,
            "overflow_y": null,
            "padding": null,
            "right": null,
            "top": null,
            "visibility": null,
            "width": null
          }
        },
        "3c2a7fe011054fa3b5468b0b98009195": {
          "model_module": "@jupyter-widgets/controls",
          "model_module_version": "1.5.0",
          "model_name": "HTMLModel",
          "state": {
            "_dom_classes": [],
            "_model_module": "@jupyter-widgets/controls",
            "_model_module_version": "1.5.0",
            "_model_name": "HTMLModel",
            "_view_count": null,
            "_view_module": "@jupyter-widgets/controls",
            "_view_module_version": "1.5.0",
            "_view_name": "HTMLView",
            "description": "",
            "description_tooltip": null,
            "layout": "IPY_MODEL_a5a5ac15bfab48e79a913db51d0e5f0d",
            "placeholder": "​",
            "style": "IPY_MODEL_5ba06cd3b4314a50ba83d66aee8253b5",
            "value": " 60%"
          }
        },
        "3ffef950d52640c9b9d95803b9aba687": {
          "model_module": "@jupyter-widgets/controls",
          "model_module_version": "1.5.0",
          "model_name": "HTMLModel",
          "state": {
            "_dom_classes": [],
            "_model_module": "@jupyter-widgets/controls",
            "_model_module_version": "1.5.0",
            "_model_name": "HTMLModel",
            "_view_count": null,
            "_view_module": "@jupyter-widgets/controls",
            "_view_module_version": "1.5.0",
            "_view_name": "HTMLView",
            "description": "",
            "description_tooltip": null,
            "layout": "IPY_MODEL_92bbd4ca81be4c03b557eb1c27830f9e",
            "placeholder": "​",
            "style": "IPY_MODEL_f82fbf2c75be476eb9ce109c26cf7f5b",
            "value": "100%"
          }
        },
        "5ba06cd3b4314a50ba83d66aee8253b5": {
          "model_module": "@jupyter-widgets/controls",
          "model_module_version": "1.5.0",
          "model_name": "DescriptionStyleModel",
          "state": {
            "_model_module": "@jupyter-widgets/controls",
            "_model_module_version": "1.5.0",
            "_model_name": "DescriptionStyleModel",
            "_view_count": null,
            "_view_module": "@jupyter-widgets/base",
            "_view_module_version": "1.2.0",
            "_view_name": "StyleView",
            "description_width": ""
          }
        },
        "5bc5e1815a3c4ef282b84779f9453193": {
          "model_module": "@jupyter-widgets/controls",
          "model_module_version": "1.5.0",
          "model_name": "HBoxModel",
          "state": {
            "_dom_classes": [],
            "_model_module": "@jupyter-widgets/controls",
            "_model_module_version": "1.5.0",
            "_model_name": "HBoxModel",
            "_view_count": null,
            "_view_module": "@jupyter-widgets/controls",
            "_view_module_version": "1.5.0",
            "_view_name": "HBoxView",
            "box_style": "",
            "children": [
              "IPY_MODEL_3c2a7fe011054fa3b5468b0b98009195",
              "IPY_MODEL_cd7dcffe3059402faf8b41035d818ea2",
              "IPY_MODEL_887c347abebf4dd485d8eed6b22d471e"
            ],
            "layout": "IPY_MODEL_3289a8cbbdc14611a9b6f7dc69bd4af1"
          }
        },
        "64fae59ebe1b4facafe404fb073b6d43": {
          "model_module": "@jupyter-widgets/controls",
          "model_module_version": "1.5.0",
          "model_name": "FloatProgressModel",
          "state": {
            "_dom_classes": [],
            "_model_module": "@jupyter-widgets/controls",
            "_model_module_version": "1.5.0",
            "_model_name": "FloatProgressModel",
            "_view_count": null,
            "_view_module": "@jupyter-widgets/controls",
            "_view_module_version": "1.5.0",
            "_view_name": "ProgressView",
            "bar_style": "success",
            "description": "",
            "description_tooltip": null,
            "layout": "IPY_MODEL_e778526d4b3b45ae9229941d391a4921",
            "max": 5,
            "min": 0,
            "orientation": "horizontal",
            "style": "IPY_MODEL_ca7c52accdfe4fc9ae3926361746b6ff",
            "value": 5
          }
        },
        "6b640b4a4493491a96075017f1ded4e1": {
          "model_module": "@jupyter-widgets/base",
          "model_module_version": "1.2.0",
          "model_name": "LayoutModel",
          "state": {
            "_model_module": "@jupyter-widgets/base",
            "_model_module_version": "1.2.0",
            "_model_name": "LayoutModel",
            "_view_count": null,
            "_view_module": "@jupyter-widgets/base",
            "_view_module_version": "1.2.0",
            "_view_name": "LayoutView",
            "align_content": null,
            "align_items": null,
            "align_self": null,
            "border": null,
            "bottom": null,
            "display": null,
            "flex": null,
            "flex_flow": null,
            "grid_area": null,
            "grid_auto_columns": null,
            "grid_auto_flow": null,
            "grid_auto_rows": null,
            "grid_column": null,
            "grid_gap": null,
            "grid_row": null,
            "grid_template_areas": null,
            "grid_template_columns": null,
            "grid_template_rows": null,
            "height": null,
            "justify_content": null,
            "justify_items": null,
            "left": null,
            "margin": null,
            "max_height": null,
            "max_width": null,
            "min_height": null,
            "min_width": null,
            "object_fit": null,
            "object_position": null,
            "order": null,
            "overflow": null,
            "overflow_x": null,
            "overflow_y": null,
            "padding": null,
            "right": null,
            "top": null,
            "visibility": null,
            "width": null
          }
        },
        "6b9d60bbbfcf4aae80916a64d191ac72": {
          "model_module": "@jupyter-widgets/base",
          "model_module_version": "1.2.0",
          "model_name": "LayoutModel",
          "state": {
            "_model_module": "@jupyter-widgets/base",
            "_model_module_version": "1.2.0",
            "_model_name": "LayoutModel",
            "_view_count": null,
            "_view_module": "@jupyter-widgets/base",
            "_view_module_version": "1.2.0",
            "_view_name": "LayoutView",
            "align_content": null,
            "align_items": null,
            "align_self": null,
            "border": null,
            "bottom": null,
            "display": null,
            "flex": null,
            "flex_flow": null,
            "grid_area": null,
            "grid_auto_columns": null,
            "grid_auto_flow": null,
            "grid_auto_rows": null,
            "grid_column": null,
            "grid_gap": null,
            "grid_row": null,
            "grid_template_areas": null,
            "grid_template_columns": null,
            "grid_template_rows": null,
            "height": null,
            "justify_content": null,
            "justify_items": null,
            "left": null,
            "margin": null,
            "max_height": null,
            "max_width": null,
            "min_height": null,
            "min_width": null,
            "object_fit": null,
            "object_position": null,
            "order": null,
            "overflow": null,
            "overflow_x": null,
            "overflow_y": null,
            "padding": null,
            "right": null,
            "top": null,
            "visibility": null,
            "width": null
          }
        },
        "71cd4a67e2b843208d094b97e83de68e": {
          "model_module": "@jupyter-widgets/base",
          "model_module_version": "1.2.0",
          "model_name": "LayoutModel",
          "state": {
            "_model_module": "@jupyter-widgets/base",
            "_model_module_version": "1.2.0",
            "_model_name": "LayoutModel",
            "_view_count": null,
            "_view_module": "@jupyter-widgets/base",
            "_view_module_version": "1.2.0",
            "_view_name": "LayoutView",
            "align_content": null,
            "align_items": null,
            "align_self": null,
            "border": null,
            "bottom": null,
            "display": null,
            "flex": null,
            "flex_flow": null,
            "grid_area": null,
            "grid_auto_columns": null,
            "grid_auto_flow": null,
            "grid_auto_rows": null,
            "grid_column": null,
            "grid_gap": null,
            "grid_row": null,
            "grid_template_areas": null,
            "grid_template_columns": null,
            "grid_template_rows": null,
            "height": null,
            "justify_content": null,
            "justify_items": null,
            "left": null,
            "margin": null,
            "max_height": null,
            "max_width": null,
            "min_height": null,
            "min_width": null,
            "object_fit": null,
            "object_position": null,
            "order": null,
            "overflow": null,
            "overflow_x": null,
            "overflow_y": null,
            "padding": null,
            "right": null,
            "top": null,
            "visibility": null,
            "width": null
          }
        },
        "7667461da86441d9b0794c83bd4b093e": {
          "model_module": "@jupyter-widgets/base",
          "model_module_version": "1.2.0",
          "model_name": "LayoutModel",
          "state": {
            "_model_module": "@jupyter-widgets/base",
            "_model_module_version": "1.2.0",
            "_model_name": "LayoutModel",
            "_view_count": null,
            "_view_module": "@jupyter-widgets/base",
            "_view_module_version": "1.2.0",
            "_view_name": "LayoutView",
            "align_content": null,
            "align_items": null,
            "align_self": null,
            "border": null,
            "bottom": null,
            "display": null,
            "flex": null,
            "flex_flow": null,
            "grid_area": null,
            "grid_auto_columns": null,
            "grid_auto_flow": null,
            "grid_auto_rows": null,
            "grid_column": null,
            "grid_gap": null,
            "grid_row": null,
            "grid_template_areas": null,
            "grid_template_columns": null,
            "grid_template_rows": null,
            "height": null,
            "justify_content": null,
            "justify_items": null,
            "left": null,
            "margin": null,
            "max_height": null,
            "max_width": null,
            "min_height": null,
            "min_width": null,
            "object_fit": null,
            "object_position": null,
            "order": null,
            "overflow": null,
            "overflow_x": null,
            "overflow_y": null,
            "padding": null,
            "right": null,
            "top": null,
            "visibility": null,
            "width": null
          }
        },
        "771736efa3f2428eaf8da4b1a558ce4b": {
          "model_module": "@jupyter-widgets/controls",
          "model_module_version": "1.5.0",
          "model_name": "DescriptionStyleModel",
          "state": {
            "_model_module": "@jupyter-widgets/controls",
            "_model_module_version": "1.5.0",
            "_model_name": "DescriptionStyleModel",
            "_view_count": null,
            "_view_module": "@jupyter-widgets/base",
            "_view_module_version": "1.2.0",
            "_view_name": "StyleView",
            "description_width": ""
          }
        },
        "77cb45d7ab204226a1f23b17f327aa8d": {
          "model_module": "@jupyter-widgets/controls",
          "model_module_version": "1.5.0",
          "model_name": "HTMLModel",
          "state": {
            "_dom_classes": [],
            "_model_module": "@jupyter-widgets/controls",
            "_model_module_version": "1.5.0",
            "_model_name": "HTMLModel",
            "_view_count": null,
            "_view_module": "@jupyter-widgets/controls",
            "_view_module_version": "1.5.0",
            "_view_name": "HTMLView",
            "description": "",
            "description_tooltip": null,
            "layout": "IPY_MODEL_a0ba18b42d134fe4ae5daec967488575",
            "placeholder": "​",
            "style": "IPY_MODEL_90865209f248495fa0d79583d7d19e46",
            "value": "100%"
          }
        },
        "7baf096244dd486fa5c1f4e4ac5296af": {
          "model_module": "@jupyter-widgets/controls",
          "model_module_version": "1.5.0",
          "model_name": "FloatProgressModel",
          "state": {
            "_dom_classes": [],
            "_model_module": "@jupyter-widgets/controls",
            "_model_module_version": "1.5.0",
            "_model_name": "FloatProgressModel",
            "_view_count": null,
            "_view_module": "@jupyter-widgets/controls",
            "_view_module_version": "1.5.0",
            "_view_name": "ProgressView",
            "bar_style": "success",
            "description": "",
            "description_tooltip": null,
            "layout": "IPY_MODEL_f4db38e8f31747bba4f8ed01648e16ed",
            "max": 50,
            "min": 0,
            "orientation": "horizontal",
            "style": "IPY_MODEL_984e06bb003a44579938c8d6af6cd112",
            "value": 50
          }
        },
        "7bd4a9d68462466a9d536bc0d80af72d": {
          "model_module": "@jupyter-widgets/controls",
          "model_module_version": "1.5.0",
          "model_name": "DescriptionStyleModel",
          "state": {
            "_model_module": "@jupyter-widgets/controls",
            "_model_module_version": "1.5.0",
            "_model_name": "DescriptionStyleModel",
            "_view_count": null,
            "_view_module": "@jupyter-widgets/base",
            "_view_module_version": "1.2.0",
            "_view_name": "StyleView",
            "description_width": ""
          }
        },
        "7d42e2c265d5487abfaafed358000afb": {
          "model_module": "@jupyter-widgets/base",
          "model_module_version": "1.2.0",
          "model_name": "LayoutModel",
          "state": {
            "_model_module": "@jupyter-widgets/base",
            "_model_module_version": "1.2.0",
            "_model_name": "LayoutModel",
            "_view_count": null,
            "_view_module": "@jupyter-widgets/base",
            "_view_module_version": "1.2.0",
            "_view_name": "LayoutView",
            "align_content": null,
            "align_items": null,
            "align_self": null,
            "border": null,
            "bottom": null,
            "display": null,
            "flex": null,
            "flex_flow": null,
            "grid_area": null,
            "grid_auto_columns": null,
            "grid_auto_flow": null,
            "grid_auto_rows": null,
            "grid_column": null,
            "grid_gap": null,
            "grid_row": null,
            "grid_template_areas": null,
            "grid_template_columns": null,
            "grid_template_rows": null,
            "height": null,
            "justify_content": null,
            "justify_items": null,
            "left": null,
            "margin": null,
            "max_height": null,
            "max_width": null,
            "min_height": null,
            "min_width": null,
            "object_fit": null,
            "object_position": null,
            "order": null,
            "overflow": null,
            "overflow_x": null,
            "overflow_y": null,
            "padding": null,
            "right": null,
            "top": null,
            "visibility": null,
            "width": null
          }
        },
        "82dba8f4dd3d4256a425ca0fd5b76555": {
          "model_module": "@jupyter-widgets/controls",
          "model_module_version": "1.5.0",
          "model_name": "HBoxModel",
          "state": {
            "_dom_classes": [],
            "_model_module": "@jupyter-widgets/controls",
            "_model_module_version": "1.5.0",
            "_model_name": "HBoxModel",
            "_view_count": null,
            "_view_module": "@jupyter-widgets/controls",
            "_view_module_version": "1.5.0",
            "_view_name": "HBoxView",
            "box_style": "",
            "children": [
              "IPY_MODEL_e75ecc1e64eb48c281ce99179f5e0560",
              "IPY_MODEL_8a4dff93a87a4c93bbc4628323b558b8",
              "IPY_MODEL_926fe2ea50294576989910bc19e0aadf"
            ],
            "layout": "IPY_MODEL_6b640b4a4493491a96075017f1ded4e1"
          }
        },
        "887c347abebf4dd485d8eed6b22d471e": {
          "model_module": "@jupyter-widgets/controls",
          "model_module_version": "1.5.0",
          "model_name": "HTMLModel",
          "state": {
            "_dom_classes": [],
            "_model_module": "@jupyter-widgets/controls",
            "_model_module_version": "1.5.0",
            "_model_name": "HTMLModel",
            "_view_count": null,
            "_view_module": "@jupyter-widgets/controls",
            "_view_module_version": "1.5.0",
            "_view_name": "HTMLView",
            "description": "",
            "description_tooltip": null,
            "layout": "IPY_MODEL_6b9d60bbbfcf4aae80916a64d191ac72",
            "placeholder": "​",
            "style": "IPY_MODEL_771736efa3f2428eaf8da4b1a558ce4b",
            "value": " 30/50 [15:44&lt;10:52, 32.61s/it]"
          }
        },
        "8a4dff93a87a4c93bbc4628323b558b8": {
          "model_module": "@jupyter-widgets/controls",
          "model_module_version": "1.5.0",
          "model_name": "FloatProgressModel",
          "state": {
            "_dom_classes": [],
            "_model_module": "@jupyter-widgets/controls",
            "_model_module_version": "1.5.0",
            "_model_name": "FloatProgressModel",
            "_view_count": null,
            "_view_module": "@jupyter-widgets/controls",
            "_view_module_version": "1.5.0",
            "_view_name": "ProgressView",
            "bar_style": "",
            "description": "",
            "description_tooltip": null,
            "layout": "IPY_MODEL_7667461da86441d9b0794c83bd4b093e",
            "max": 100,
            "min": 0,
            "orientation": "horizontal",
            "style": "IPY_MODEL_94cc459833c0430aa9f2832183af5840",
            "value": 90
          }
        },
        "8b5f052b9d6242299c0eb2aa4acc4325": {
          "model_module": "@jupyter-widgets/controls",
          "model_module_version": "1.5.0",
          "model_name": "DescriptionStyleModel",
          "state": {
            "_model_module": "@jupyter-widgets/controls",
            "_model_module_version": "1.5.0",
            "_model_name": "DescriptionStyleModel",
            "_view_count": null,
            "_view_module": "@jupyter-widgets/base",
            "_view_module_version": "1.2.0",
            "_view_name": "StyleView",
            "description_width": ""
          }
        },
        "8dc61fa5efc3427383428be02bc6c28a": {
          "model_module": "@jupyter-widgets/controls",
          "model_module_version": "1.5.0",
          "model_name": "HBoxModel",
          "state": {
            "_dom_classes": [],
            "_model_module": "@jupyter-widgets/controls",
            "_model_module_version": "1.5.0",
            "_model_name": "HBoxModel",
            "_view_count": null,
            "_view_module": "@jupyter-widgets/controls",
            "_view_module_version": "1.5.0",
            "_view_name": "HBoxView",
            "box_style": "",
            "children": [
              "IPY_MODEL_77cb45d7ab204226a1f23b17f327aa8d",
              "IPY_MODEL_64fae59ebe1b4facafe404fb073b6d43",
              "IPY_MODEL_f62fa2fcdde84bd5bef7cf52455a9beb"
            ],
            "layout": "IPY_MODEL_71cd4a67e2b843208d094b97e83de68e"
          }
        },
        "90865209f248495fa0d79583d7d19e46": {
          "model_module": "@jupyter-widgets/controls",
          "model_module_version": "1.5.0",
          "model_name": "DescriptionStyleModel",
          "state": {
            "_model_module": "@jupyter-widgets/controls",
            "_model_module_version": "1.5.0",
            "_model_name": "DescriptionStyleModel",
            "_view_count": null,
            "_view_module": "@jupyter-widgets/base",
            "_view_module_version": "1.2.0",
            "_view_name": "StyleView",
            "description_width": ""
          }
        },
        "926fe2ea50294576989910bc19e0aadf": {
          "model_module": "@jupyter-widgets/controls",
          "model_module_version": "1.5.0",
          "model_name": "HTMLModel",
          "state": {
            "_dom_classes": [],
            "_model_module": "@jupyter-widgets/controls",
            "_model_module_version": "1.5.0",
            "_model_name": "HTMLModel",
            "_view_count": null,
            "_view_module": "@jupyter-widgets/controls",
            "_view_module_version": "1.5.0",
            "_view_name": "HTMLView",
            "description": "",
            "description_tooltip": null,
            "layout": "IPY_MODEL_c50c99ca61ad436099205ee904dfb087",
            "placeholder": "​",
            "style": "IPY_MODEL_7bd4a9d68462466a9d536bc0d80af72d",
            "value": " 90/100 [44:29&lt;05:14, 31.45s/it]"
          }
        },
        "92bbd4ca81be4c03b557eb1c27830f9e": {
          "model_module": "@jupyter-widgets/base",
          "model_module_version": "1.2.0",
          "model_name": "LayoutModel",
          "state": {
            "_model_module": "@jupyter-widgets/base",
            "_model_module_version": "1.2.0",
            "_model_name": "LayoutModel",
            "_view_count": null,
            "_view_module": "@jupyter-widgets/base",
            "_view_module_version": "1.2.0",
            "_view_name": "LayoutView",
            "align_content": null,
            "align_items": null,
            "align_self": null,
            "border": null,
            "bottom": null,
            "display": null,
            "flex": null,
            "flex_flow": null,
            "grid_area": null,
            "grid_auto_columns": null,
            "grid_auto_flow": null,
            "grid_auto_rows": null,
            "grid_column": null,
            "grid_gap": null,
            "grid_row": null,
            "grid_template_areas": null,
            "grid_template_columns": null,
            "grid_template_rows": null,
            "height": null,
            "justify_content": null,
            "justify_items": null,
            "left": null,
            "margin": null,
            "max_height": null,
            "max_width": null,
            "min_height": null,
            "min_width": null,
            "object_fit": null,
            "object_position": null,
            "order": null,
            "overflow": null,
            "overflow_x": null,
            "overflow_y": null,
            "padding": null,
            "right": null,
            "top": null,
            "visibility": null,
            "width": null
          }
        },
        "930e09460db346bdb255d885cb1fd256": {
          "model_module": "@jupyter-widgets/controls",
          "model_module_version": "1.5.0",
          "model_name": "HTMLModel",
          "state": {
            "_dom_classes": [],
            "_model_module": "@jupyter-widgets/controls",
            "_model_module_version": "1.5.0",
            "_model_name": "HTMLModel",
            "_view_count": null,
            "_view_module": "@jupyter-widgets/controls",
            "_view_module_version": "1.5.0",
            "_view_name": "HTMLView",
            "description": "",
            "description_tooltip": null,
            "layout": "IPY_MODEL_2abdf9609c404277aa833f608b1a5b80",
            "placeholder": "​",
            "style": "IPY_MODEL_b9821473373f4c488daed3b96265db20",
            "value": " 50/50 [24:40&lt;00:00, 30.54s/it]"
          }
        },
        "94cc459833c0430aa9f2832183af5840": {
          "model_module": "@jupyter-widgets/controls",
          "model_module_version": "1.5.0",
          "model_name": "ProgressStyleModel",
          "state": {
            "_model_module": "@jupyter-widgets/controls",
            "_model_module_version": "1.5.0",
            "_model_name": "ProgressStyleModel",
            "_view_count": null,
            "_view_module": "@jupyter-widgets/base",
            "_view_module_version": "1.2.0",
            "_view_name": "StyleView",
            "bar_color": null,
            "description_width": ""
          }
        },
        "9655736d61d5409d96ae2618cb462836": {
          "model_module": "@jupyter-widgets/controls",
          "model_module_version": "1.5.0",
          "model_name": "HBoxModel",
          "state": {
            "_dom_classes": [],
            "_model_module": "@jupyter-widgets/controls",
            "_model_module_version": "1.5.0",
            "_model_name": "HBoxModel",
            "_view_count": null,
            "_view_module": "@jupyter-widgets/controls",
            "_view_module_version": "1.5.0",
            "_view_name": "HBoxView",
            "box_style": "",
            "children": [
              "IPY_MODEL_3ffef950d52640c9b9d95803b9aba687",
              "IPY_MODEL_7baf096244dd486fa5c1f4e4ac5296af",
              "IPY_MODEL_930e09460db346bdb255d885cb1fd256"
            ],
            "layout": "IPY_MODEL_7d42e2c265d5487abfaafed358000afb"
          }
        },
        "984e06bb003a44579938c8d6af6cd112": {
          "model_module": "@jupyter-widgets/controls",
          "model_module_version": "1.5.0",
          "model_name": "ProgressStyleModel",
          "state": {
            "_model_module": "@jupyter-widgets/controls",
            "_model_module_version": "1.5.0",
            "_model_name": "ProgressStyleModel",
            "_view_count": null,
            "_view_module": "@jupyter-widgets/base",
            "_view_module_version": "1.2.0",
            "_view_name": "StyleView",
            "bar_color": null,
            "description_width": ""
          }
        },
        "99ed2e90daf64df2a4b2980be4b5b6b1": {
          "model_module": "@jupyter-widgets/base",
          "model_module_version": "1.2.0",
          "model_name": "LayoutModel",
          "state": {
            "_model_module": "@jupyter-widgets/base",
            "_model_module_version": "1.2.0",
            "_model_name": "LayoutModel",
            "_view_count": null,
            "_view_module": "@jupyter-widgets/base",
            "_view_module_version": "1.2.0",
            "_view_name": "LayoutView",
            "align_content": null,
            "align_items": null,
            "align_self": null,
            "border": null,
            "bottom": null,
            "display": null,
            "flex": null,
            "flex_flow": null,
            "grid_area": null,
            "grid_auto_columns": null,
            "grid_auto_flow": null,
            "grid_auto_rows": null,
            "grid_column": null,
            "grid_gap": null,
            "grid_row": null,
            "grid_template_areas": null,
            "grid_template_columns": null,
            "grid_template_rows": null,
            "height": null,
            "justify_content": null,
            "justify_items": null,
            "left": null,
            "margin": null,
            "max_height": null,
            "max_width": null,
            "min_height": null,
            "min_width": null,
            "object_fit": null,
            "object_position": null,
            "order": null,
            "overflow": null,
            "overflow_x": null,
            "overflow_y": null,
            "padding": null,
            "right": null,
            "top": null,
            "visibility": null,
            "width": null
          }
        },
        "a0ba18b42d134fe4ae5daec967488575": {
          "model_module": "@jupyter-widgets/base",
          "model_module_version": "1.2.0",
          "model_name": "LayoutModel",
          "state": {
            "_model_module": "@jupyter-widgets/base",
            "_model_module_version": "1.2.0",
            "_model_name": "LayoutModel",
            "_view_count": null,
            "_view_module": "@jupyter-widgets/base",
            "_view_module_version": "1.2.0",
            "_view_name": "LayoutView",
            "align_content": null,
            "align_items": null,
            "align_self": null,
            "border": null,
            "bottom": null,
            "display": null,
            "flex": null,
            "flex_flow": null,
            "grid_area": null,
            "grid_auto_columns": null,
            "grid_auto_flow": null,
            "grid_auto_rows": null,
            "grid_column": null,
            "grid_gap": null,
            "grid_row": null,
            "grid_template_areas": null,
            "grid_template_columns": null,
            "grid_template_rows": null,
            "height": null,
            "justify_content": null,
            "justify_items": null,
            "left": null,
            "margin": null,
            "max_height": null,
            "max_width": null,
            "min_height": null,
            "min_width": null,
            "object_fit": null,
            "object_position": null,
            "order": null,
            "overflow": null,
            "overflow_x": null,
            "overflow_y": null,
            "padding": null,
            "right": null,
            "top": null,
            "visibility": null,
            "width": null
          }
        },
        "a5a5ac15bfab48e79a913db51d0e5f0d": {
          "model_module": "@jupyter-widgets/base",
          "model_module_version": "1.2.0",
          "model_name": "LayoutModel",
          "state": {
            "_model_module": "@jupyter-widgets/base",
            "_model_module_version": "1.2.0",
            "_model_name": "LayoutModel",
            "_view_count": null,
            "_view_module": "@jupyter-widgets/base",
            "_view_module_version": "1.2.0",
            "_view_name": "LayoutView",
            "align_content": null,
            "align_items": null,
            "align_self": null,
            "border": null,
            "bottom": null,
            "display": null,
            "flex": null,
            "flex_flow": null,
            "grid_area": null,
            "grid_auto_columns": null,
            "grid_auto_flow": null,
            "grid_auto_rows": null,
            "grid_column": null,
            "grid_gap": null,
            "grid_row": null,
            "grid_template_areas": null,
            "grid_template_columns": null,
            "grid_template_rows": null,
            "height": null,
            "justify_content": null,
            "justify_items": null,
            "left": null,
            "margin": null,
            "max_height": null,
            "max_width": null,
            "min_height": null,
            "min_width": null,
            "object_fit": null,
            "object_position": null,
            "order": null,
            "overflow": null,
            "overflow_x": null,
            "overflow_y": null,
            "padding": null,
            "right": null,
            "top": null,
            "visibility": null,
            "width": null
          }
        },
        "a948097b405e4af0a5daf7e0b3c1e968": {
          "model_module": "@jupyter-widgets/base",
          "model_module_version": "1.2.0",
          "model_name": "LayoutModel",
          "state": {
            "_model_module": "@jupyter-widgets/base",
            "_model_module_version": "1.2.0",
            "_model_name": "LayoutModel",
            "_view_count": null,
            "_view_module": "@jupyter-widgets/base",
            "_view_module_version": "1.2.0",
            "_view_name": "LayoutView",
            "align_content": null,
            "align_items": null,
            "align_self": null,
            "border": null,
            "bottom": null,
            "display": null,
            "flex": null,
            "flex_flow": null,
            "grid_area": null,
            "grid_auto_columns": null,
            "grid_auto_flow": null,
            "grid_auto_rows": null,
            "grid_column": null,
            "grid_gap": null,
            "grid_row": null,
            "grid_template_areas": null,
            "grid_template_columns": null,
            "grid_template_rows": null,
            "height": null,
            "justify_content": null,
            "justify_items": null,
            "left": null,
            "margin": null,
            "max_height": null,
            "max_width": null,
            "min_height": null,
            "min_width": null,
            "object_fit": null,
            "object_position": null,
            "order": null,
            "overflow": null,
            "overflow_x": null,
            "overflow_y": null,
            "padding": null,
            "right": null,
            "top": null,
            "visibility": null,
            "width": null
          }
        },
        "b9821473373f4c488daed3b96265db20": {
          "model_module": "@jupyter-widgets/controls",
          "model_module_version": "1.5.0",
          "model_name": "DescriptionStyleModel",
          "state": {
            "_model_module": "@jupyter-widgets/controls",
            "_model_module_version": "1.5.0",
            "_model_name": "DescriptionStyleModel",
            "_view_count": null,
            "_view_module": "@jupyter-widgets/base",
            "_view_module_version": "1.2.0",
            "_view_name": "StyleView",
            "description_width": ""
          }
        },
        "bcd34f979cad4ae2a9a48696ecb9c3ed": {
          "model_module": "@jupyter-widgets/base",
          "model_module_version": "1.2.0",
          "model_name": "LayoutModel",
          "state": {
            "_model_module": "@jupyter-widgets/base",
            "_model_module_version": "1.2.0",
            "_model_name": "LayoutModel",
            "_view_count": null,
            "_view_module": "@jupyter-widgets/base",
            "_view_module_version": "1.2.0",
            "_view_name": "LayoutView",
            "align_content": null,
            "align_items": null,
            "align_self": null,
            "border": null,
            "bottom": null,
            "display": null,
            "flex": null,
            "flex_flow": null,
            "grid_area": null,
            "grid_auto_columns": null,
            "grid_auto_flow": null,
            "grid_auto_rows": null,
            "grid_column": null,
            "grid_gap": null,
            "grid_row": null,
            "grid_template_areas": null,
            "grid_template_columns": null,
            "grid_template_rows": null,
            "height": null,
            "justify_content": null,
            "justify_items": null,
            "left": null,
            "margin": null,
            "max_height": null,
            "max_width": null,
            "min_height": null,
            "min_width": null,
            "object_fit": null,
            "object_position": null,
            "order": null,
            "overflow": null,
            "overflow_x": null,
            "overflow_y": null,
            "padding": null,
            "right": null,
            "top": null,
            "visibility": null,
            "width": null
          }
        },
        "c21b57007b134ee7890cbfacebae700a": {
          "model_module": "@jupyter-widgets/controls",
          "model_module_version": "1.5.0",
          "model_name": "ProgressStyleModel",
          "state": {
            "_model_module": "@jupyter-widgets/controls",
            "_model_module_version": "1.5.0",
            "_model_name": "ProgressStyleModel",
            "_view_count": null,
            "_view_module": "@jupyter-widgets/base",
            "_view_module_version": "1.2.0",
            "_view_name": "StyleView",
            "bar_color": null,
            "description_width": ""
          }
        },
        "c50c99ca61ad436099205ee904dfb087": {
          "model_module": "@jupyter-widgets/base",
          "model_module_version": "1.2.0",
          "model_name": "LayoutModel",
          "state": {
            "_model_module": "@jupyter-widgets/base",
            "_model_module_version": "1.2.0",
            "_model_name": "LayoutModel",
            "_view_count": null,
            "_view_module": "@jupyter-widgets/base",
            "_view_module_version": "1.2.0",
            "_view_name": "LayoutView",
            "align_content": null,
            "align_items": null,
            "align_self": null,
            "border": null,
            "bottom": null,
            "display": null,
            "flex": null,
            "flex_flow": null,
            "grid_area": null,
            "grid_auto_columns": null,
            "grid_auto_flow": null,
            "grid_auto_rows": null,
            "grid_column": null,
            "grid_gap": null,
            "grid_row": null,
            "grid_template_areas": null,
            "grid_template_columns": null,
            "grid_template_rows": null,
            "height": null,
            "justify_content": null,
            "justify_items": null,
            "left": null,
            "margin": null,
            "max_height": null,
            "max_width": null,
            "min_height": null,
            "min_width": null,
            "object_fit": null,
            "object_position": null,
            "order": null,
            "overflow": null,
            "overflow_x": null,
            "overflow_y": null,
            "padding": null,
            "right": null,
            "top": null,
            "visibility": null,
            "width": null
          }
        },
        "ca7c52accdfe4fc9ae3926361746b6ff": {
          "model_module": "@jupyter-widgets/controls",
          "model_module_version": "1.5.0",
          "model_name": "ProgressStyleModel",
          "state": {
            "_model_module": "@jupyter-widgets/controls",
            "_model_module_version": "1.5.0",
            "_model_name": "ProgressStyleModel",
            "_view_count": null,
            "_view_module": "@jupyter-widgets/base",
            "_view_module_version": "1.2.0",
            "_view_name": "StyleView",
            "bar_color": null,
            "description_width": ""
          }
        },
        "cd5bba25cfcb4f2ab6a98d53820cd563": {
          "model_module": "@jupyter-widgets/controls",
          "model_module_version": "1.5.0",
          "model_name": "DescriptionStyleModel",
          "state": {
            "_model_module": "@jupyter-widgets/controls",
            "_model_module_version": "1.5.0",
            "_model_name": "DescriptionStyleModel",
            "_view_count": null,
            "_view_module": "@jupyter-widgets/base",
            "_view_module_version": "1.2.0",
            "_view_name": "StyleView",
            "description_width": ""
          }
        },
        "cd7dcffe3059402faf8b41035d818ea2": {
          "model_module": "@jupyter-widgets/controls",
          "model_module_version": "1.5.0",
          "model_name": "FloatProgressModel",
          "state": {
            "_dom_classes": [],
            "_model_module": "@jupyter-widgets/controls",
            "_model_module_version": "1.5.0",
            "_model_name": "FloatProgressModel",
            "_view_count": null,
            "_view_module": "@jupyter-widgets/controls",
            "_view_module_version": "1.5.0",
            "_view_name": "ProgressView",
            "bar_style": "",
            "description": "",
            "description_tooltip": null,
            "layout": "IPY_MODEL_a948097b405e4af0a5daf7e0b3c1e968",
            "max": 50,
            "min": 0,
            "orientation": "horizontal",
            "style": "IPY_MODEL_c21b57007b134ee7890cbfacebae700a",
            "value": 30
          }
        },
        "e75ecc1e64eb48c281ce99179f5e0560": {
          "model_module": "@jupyter-widgets/controls",
          "model_module_version": "1.5.0",
          "model_name": "HTMLModel",
          "state": {
            "_dom_classes": [],
            "_model_module": "@jupyter-widgets/controls",
            "_model_module_version": "1.5.0",
            "_model_name": "HTMLModel",
            "_view_count": null,
            "_view_module": "@jupyter-widgets/controls",
            "_view_module_version": "1.5.0",
            "_view_name": "HTMLView",
            "description": "",
            "description_tooltip": null,
            "layout": "IPY_MODEL_99ed2e90daf64df2a4b2980be4b5b6b1",
            "placeholder": "​",
            "style": "IPY_MODEL_cd5bba25cfcb4f2ab6a98d53820cd563",
            "value": " 90%"
          }
        },
        "e778526d4b3b45ae9229941d391a4921": {
          "model_module": "@jupyter-widgets/base",
          "model_module_version": "1.2.0",
          "model_name": "LayoutModel",
          "state": {
            "_model_module": "@jupyter-widgets/base",
            "_model_module_version": "1.2.0",
            "_model_name": "LayoutModel",
            "_view_count": null,
            "_view_module": "@jupyter-widgets/base",
            "_view_module_version": "1.2.0",
            "_view_name": "LayoutView",
            "align_content": null,
            "align_items": null,
            "align_self": null,
            "border": null,
            "bottom": null,
            "display": null,
            "flex": null,
            "flex_flow": null,
            "grid_area": null,
            "grid_auto_columns": null,
            "grid_auto_flow": null,
            "grid_auto_rows": null,
            "grid_column": null,
            "grid_gap": null,
            "grid_row": null,
            "grid_template_areas": null,
            "grid_template_columns": null,
            "grid_template_rows": null,
            "height": null,
            "justify_content": null,
            "justify_items": null,
            "left": null,
            "margin": null,
            "max_height": null,
            "max_width": null,
            "min_height": null,
            "min_width": null,
            "object_fit": null,
            "object_position": null,
            "order": null,
            "overflow": null,
            "overflow_x": null,
            "overflow_y": null,
            "padding": null,
            "right": null,
            "top": null,
            "visibility": null,
            "width": null
          }
        },
        "f4db38e8f31747bba4f8ed01648e16ed": {
          "model_module": "@jupyter-widgets/base",
          "model_module_version": "1.2.0",
          "model_name": "LayoutModel",
          "state": {
            "_model_module": "@jupyter-widgets/base",
            "_model_module_version": "1.2.0",
            "_model_name": "LayoutModel",
            "_view_count": null,
            "_view_module": "@jupyter-widgets/base",
            "_view_module_version": "1.2.0",
            "_view_name": "LayoutView",
            "align_content": null,
            "align_items": null,
            "align_self": null,
            "border": null,
            "bottom": null,
            "display": null,
            "flex": null,
            "flex_flow": null,
            "grid_area": null,
            "grid_auto_columns": null,
            "grid_auto_flow": null,
            "grid_auto_rows": null,
            "grid_column": null,
            "grid_gap": null,
            "grid_row": null,
            "grid_template_areas": null,
            "grid_template_columns": null,
            "grid_template_rows": null,
            "height": null,
            "justify_content": null,
            "justify_items": null,
            "left": null,
            "margin": null,
            "max_height": null,
            "max_width": null,
            "min_height": null,
            "min_width": null,
            "object_fit": null,
            "object_position": null,
            "order": null,
            "overflow": null,
            "overflow_x": null,
            "overflow_y": null,
            "padding": null,
            "right": null,
            "top": null,
            "visibility": null,
            "width": null
          }
        },
        "f62fa2fcdde84bd5bef7cf52455a9beb": {
          "model_module": "@jupyter-widgets/controls",
          "model_module_version": "1.5.0",
          "model_name": "HTMLModel",
          "state": {
            "_dom_classes": [],
            "_model_module": "@jupyter-widgets/controls",
            "_model_module_version": "1.5.0",
            "_model_name": "HTMLModel",
            "_view_count": null,
            "_view_module": "@jupyter-widgets/controls",
            "_view_module_version": "1.5.0",
            "_view_name": "HTMLView",
            "description": "",
            "description_tooltip": null,
            "layout": "IPY_MODEL_bcd34f979cad4ae2a9a48696ecb9c3ed",
            "placeholder": "​",
            "style": "IPY_MODEL_8b5f052b9d6242299c0eb2aa4acc4325",
            "value": " 5/5 [00:00&lt;00:00, 12.92it/s]"
          }
        },
        "f82fbf2c75be476eb9ce109c26cf7f5b": {
          "model_module": "@jupyter-widgets/controls",
          "model_module_version": "1.5.0",
          "model_name": "DescriptionStyleModel",
          "state": {
            "_model_module": "@jupyter-widgets/controls",
            "_model_module_version": "1.5.0",
            "_model_name": "DescriptionStyleModel",
            "_view_count": null,
            "_view_module": "@jupyter-widgets/base",
            "_view_module_version": "1.2.0",
            "_view_name": "StyleView",
            "description_width": ""
          }
        },
        "0d8258eec14643ddb83c444e3de7e146": {
          "model_module": "@jupyter-widgets/controls",
          "model_name": "HBoxModel",
          "model_module_version": "1.5.0",
          "state": {
            "_dom_classes": [],
            "_model_module": "@jupyter-widgets/controls",
            "_model_module_version": "1.5.0",
            "_model_name": "HBoxModel",
            "_view_count": null,
            "_view_module": "@jupyter-widgets/controls",
            "_view_module_version": "1.5.0",
            "_view_name": "HBoxView",
            "box_style": "",
            "children": [
              "IPY_MODEL_d17f7ab3d7ac4a748b19616c67c931fb",
              "IPY_MODEL_12bdadd883414d1c9106853391898995",
              "IPY_MODEL_59497e65ecd94c6b81df635b48d64a45"
            ],
            "layout": "IPY_MODEL_1ec9fe29de5840fe87ca63e207c8afc5"
          }
        },
        "d17f7ab3d7ac4a748b19616c67c931fb": {
          "model_module": "@jupyter-widgets/controls",
          "model_name": "HTMLModel",
          "model_module_version": "1.5.0",
          "state": {
            "_dom_classes": [],
            "_model_module": "@jupyter-widgets/controls",
            "_model_module_version": "1.5.0",
            "_model_name": "HTMLModel",
            "_view_count": null,
            "_view_module": "@jupyter-widgets/controls",
            "_view_module_version": "1.5.0",
            "_view_name": "HTMLView",
            "description": "",
            "description_tooltip": null,
            "layout": "IPY_MODEL_82c6e1102aa54af9bcbafb64dd4273a7",
            "placeholder": "​",
            "style": "IPY_MODEL_0e8b137c1a264181b6c358bd49117ff6",
            "value": ""
          }
        },
        "12bdadd883414d1c9106853391898995": {
          "model_module": "@jupyter-widgets/controls",
          "model_name": "FloatProgressModel",
          "model_module_version": "1.5.0",
          "state": {
            "_dom_classes": [],
            "_model_module": "@jupyter-widgets/controls",
            "_model_module_version": "1.5.0",
            "_model_name": "FloatProgressModel",
            "_view_count": null,
            "_view_module": "@jupyter-widgets/controls",
            "_view_module_version": "1.5.0",
            "_view_name": "ProgressView",
            "bar_style": "success",
            "description": "",
            "description_tooltip": null,
            "layout": "IPY_MODEL_5ff55a61ceed43baa186824f4d87224c",
            "max": 1,
            "min": 0,
            "orientation": "horizontal",
            "style": "IPY_MODEL_13c5766488234b0a923ce0656608b21e",
            "value": 1
          }
        },
        "59497e65ecd94c6b81df635b48d64a45": {
          "model_module": "@jupyter-widgets/controls",
          "model_name": "HTMLModel",
          "model_module_version": "1.5.0",
          "state": {
            "_dom_classes": [],
            "_model_module": "@jupyter-widgets/controls",
            "_model_module_version": "1.5.0",
            "_model_name": "HTMLModel",
            "_view_count": null,
            "_view_module": "@jupyter-widgets/controls",
            "_view_module_version": "1.5.0",
            "_view_name": "HTMLView",
            "description": "",
            "description_tooltip": null,
            "layout": "IPY_MODEL_50684eb38ad84d3cab4fe981e114f8c2",
            "placeholder": "​",
            "style": "IPY_MODEL_1b402aeaec204542883181c1d5673aa1",
            "value": " 3794/? [20:35&lt;00:00,  3.35it/s]"
          }
        },
        "1ec9fe29de5840fe87ca63e207c8afc5": {
          "model_module": "@jupyter-widgets/base",
          "model_name": "LayoutModel",
          "model_module_version": "1.2.0",
          "state": {
            "_model_module": "@jupyter-widgets/base",
            "_model_module_version": "1.2.0",
            "_model_name": "LayoutModel",
            "_view_count": null,
            "_view_module": "@jupyter-widgets/base",
            "_view_module_version": "1.2.0",
            "_view_name": "LayoutView",
            "align_content": null,
            "align_items": null,
            "align_self": null,
            "border": null,
            "bottom": null,
            "display": null,
            "flex": null,
            "flex_flow": null,
            "grid_area": null,
            "grid_auto_columns": null,
            "grid_auto_flow": null,
            "grid_auto_rows": null,
            "grid_column": null,
            "grid_gap": null,
            "grid_row": null,
            "grid_template_areas": null,
            "grid_template_columns": null,
            "grid_template_rows": null,
            "height": null,
            "justify_content": null,
            "justify_items": null,
            "left": null,
            "margin": null,
            "max_height": null,
            "max_width": null,
            "min_height": null,
            "min_width": null,
            "object_fit": null,
            "object_position": null,
            "order": null,
            "overflow": null,
            "overflow_x": null,
            "overflow_y": null,
            "padding": null,
            "right": null,
            "top": null,
            "visibility": null,
            "width": null
          }
        },
        "82c6e1102aa54af9bcbafb64dd4273a7": {
          "model_module": "@jupyter-widgets/base",
          "model_name": "LayoutModel",
          "model_module_version": "1.2.0",
          "state": {
            "_model_module": "@jupyter-widgets/base",
            "_model_module_version": "1.2.0",
            "_model_name": "LayoutModel",
            "_view_count": null,
            "_view_module": "@jupyter-widgets/base",
            "_view_module_version": "1.2.0",
            "_view_name": "LayoutView",
            "align_content": null,
            "align_items": null,
            "align_self": null,
            "border": null,
            "bottom": null,
            "display": null,
            "flex": null,
            "flex_flow": null,
            "grid_area": null,
            "grid_auto_columns": null,
            "grid_auto_flow": null,
            "grid_auto_rows": null,
            "grid_column": null,
            "grid_gap": null,
            "grid_row": null,
            "grid_template_areas": null,
            "grid_template_columns": null,
            "grid_template_rows": null,
            "height": null,
            "justify_content": null,
            "justify_items": null,
            "left": null,
            "margin": null,
            "max_height": null,
            "max_width": null,
            "min_height": null,
            "min_width": null,
            "object_fit": null,
            "object_position": null,
            "order": null,
            "overflow": null,
            "overflow_x": null,
            "overflow_y": null,
            "padding": null,
            "right": null,
            "top": null,
            "visibility": null,
            "width": null
          }
        },
        "0e8b137c1a264181b6c358bd49117ff6": {
          "model_module": "@jupyter-widgets/controls",
          "model_name": "DescriptionStyleModel",
          "model_module_version": "1.5.0",
          "state": {
            "_model_module": "@jupyter-widgets/controls",
            "_model_module_version": "1.5.0",
            "_model_name": "DescriptionStyleModel",
            "_view_count": null,
            "_view_module": "@jupyter-widgets/base",
            "_view_module_version": "1.2.0",
            "_view_name": "StyleView",
            "description_width": ""
          }
        },
        "5ff55a61ceed43baa186824f4d87224c": {
          "model_module": "@jupyter-widgets/base",
          "model_name": "LayoutModel",
          "model_module_version": "1.2.0",
          "state": {
            "_model_module": "@jupyter-widgets/base",
            "_model_module_version": "1.2.0",
            "_model_name": "LayoutModel",
            "_view_count": null,
            "_view_module": "@jupyter-widgets/base",
            "_view_module_version": "1.2.0",
            "_view_name": "LayoutView",
            "align_content": null,
            "align_items": null,
            "align_self": null,
            "border": null,
            "bottom": null,
            "display": null,
            "flex": null,
            "flex_flow": null,
            "grid_area": null,
            "grid_auto_columns": null,
            "grid_auto_flow": null,
            "grid_auto_rows": null,
            "grid_column": null,
            "grid_gap": null,
            "grid_row": null,
            "grid_template_areas": null,
            "grid_template_columns": null,
            "grid_template_rows": null,
            "height": null,
            "justify_content": null,
            "justify_items": null,
            "left": null,
            "margin": null,
            "max_height": null,
            "max_width": null,
            "min_height": null,
            "min_width": null,
            "object_fit": null,
            "object_position": null,
            "order": null,
            "overflow": null,
            "overflow_x": null,
            "overflow_y": null,
            "padding": null,
            "right": null,
            "top": null,
            "visibility": null,
            "width": "20px"
          }
        },
        "13c5766488234b0a923ce0656608b21e": {
          "model_module": "@jupyter-widgets/controls",
          "model_name": "ProgressStyleModel",
          "model_module_version": "1.5.0",
          "state": {
            "_model_module": "@jupyter-widgets/controls",
            "_model_module_version": "1.5.0",
            "_model_name": "ProgressStyleModel",
            "_view_count": null,
            "_view_module": "@jupyter-widgets/base",
            "_view_module_version": "1.2.0",
            "_view_name": "StyleView",
            "bar_color": null,
            "description_width": ""
          }
        },
        "50684eb38ad84d3cab4fe981e114f8c2": {
          "model_module": "@jupyter-widgets/base",
          "model_name": "LayoutModel",
          "model_module_version": "1.2.0",
          "state": {
            "_model_module": "@jupyter-widgets/base",
            "_model_module_version": "1.2.0",
            "_model_name": "LayoutModel",
            "_view_count": null,
            "_view_module": "@jupyter-widgets/base",
            "_view_module_version": "1.2.0",
            "_view_name": "LayoutView",
            "align_content": null,
            "align_items": null,
            "align_self": null,
            "border": null,
            "bottom": null,
            "display": null,
            "flex": null,
            "flex_flow": null,
            "grid_area": null,
            "grid_auto_columns": null,
            "grid_auto_flow": null,
            "grid_auto_rows": null,
            "grid_column": null,
            "grid_gap": null,
            "grid_row": null,
            "grid_template_areas": null,
            "grid_template_columns": null,
            "grid_template_rows": null,
            "height": null,
            "justify_content": null,
            "justify_items": null,
            "left": null,
            "margin": null,
            "max_height": null,
            "max_width": null,
            "min_height": null,
            "min_width": null,
            "object_fit": null,
            "object_position": null,
            "order": null,
            "overflow": null,
            "overflow_x": null,
            "overflow_y": null,
            "padding": null,
            "right": null,
            "top": null,
            "visibility": null,
            "width": null
          }
        },
        "1b402aeaec204542883181c1d5673aa1": {
          "model_module": "@jupyter-widgets/controls",
          "model_name": "DescriptionStyleModel",
          "model_module_version": "1.5.0",
          "state": {
            "_model_module": "@jupyter-widgets/controls",
            "_model_module_version": "1.5.0",
            "_model_name": "DescriptionStyleModel",
            "_view_count": null,
            "_view_module": "@jupyter-widgets/base",
            "_view_module_version": "1.2.0",
            "_view_name": "StyleView",
            "description_width": ""
          }
        },
        "2f7ee2911ca64c788f58846c63df3b7d": {
          "model_module": "@jupyter-widgets/controls",
          "model_name": "HBoxModel",
          "model_module_version": "1.5.0",
          "state": {
            "_dom_classes": [],
            "_model_module": "@jupyter-widgets/controls",
            "_model_module_version": "1.5.0",
            "_model_name": "HBoxModel",
            "_view_count": null,
            "_view_module": "@jupyter-widgets/controls",
            "_view_module_version": "1.5.0",
            "_view_name": "HBoxView",
            "box_style": "",
            "children": [
              "IPY_MODEL_c25ad40a3a9547df81bf520a2639f2d9",
              "IPY_MODEL_9871eeeac7e643b8bf2fcb14b590a92b",
              "IPY_MODEL_05d7110c907b4827bcea391082b7dd5f"
            ],
            "layout": "IPY_MODEL_6514e9848aa9486f8516e93fb0415980"
          }
        },
        "c25ad40a3a9547df81bf520a2639f2d9": {
          "model_module": "@jupyter-widgets/controls",
          "model_name": "HTMLModel",
          "model_module_version": "1.5.0",
          "state": {
            "_dom_classes": [],
            "_model_module": "@jupyter-widgets/controls",
            "_model_module_version": "1.5.0",
            "_model_name": "HTMLModel",
            "_view_count": null,
            "_view_module": "@jupyter-widgets/controls",
            "_view_module_version": "1.5.0",
            "_view_name": "HTMLView",
            "description": "",
            "description_tooltip": null,
            "layout": "IPY_MODEL_df188165512c4eb592005399604e1a15",
            "placeholder": "​",
            "style": "IPY_MODEL_37557bfd2c9a4004ae6dceee67eb9729",
            "value": "100%"
          }
        },
        "9871eeeac7e643b8bf2fcb14b590a92b": {
          "model_module": "@jupyter-widgets/controls",
          "model_name": "FloatProgressModel",
          "model_module_version": "1.5.0",
          "state": {
            "_dom_classes": [],
            "_model_module": "@jupyter-widgets/controls",
            "_model_module_version": "1.5.0",
            "_model_name": "FloatProgressModel",
            "_view_count": null,
            "_view_module": "@jupyter-widgets/controls",
            "_view_module_version": "1.5.0",
            "_view_name": "ProgressView",
            "bar_style": "success",
            "description": "",
            "description_tooltip": null,
            "layout": "IPY_MODEL_9cf8b258acfb4ab9bffb89f92388567b",
            "max": 70,
            "min": 0,
            "orientation": "horizontal",
            "style": "IPY_MODEL_4ccf13c26d9f4d1ead362ed0c8473786",
            "value": 70
          }
        },
        "05d7110c907b4827bcea391082b7dd5f": {
          "model_module": "@jupyter-widgets/controls",
          "model_name": "HTMLModel",
          "model_module_version": "1.5.0",
          "state": {
            "_dom_classes": [],
            "_model_module": "@jupyter-widgets/controls",
            "_model_module_version": "1.5.0",
            "_model_name": "HTMLModel",
            "_view_count": null,
            "_view_module": "@jupyter-widgets/controls",
            "_view_module_version": "1.5.0",
            "_view_name": "HTMLView",
            "description": "",
            "description_tooltip": null,
            "layout": "IPY_MODEL_add4cc9b207a4d64b19da0af45efbbd6",
            "placeholder": "​",
            "style": "IPY_MODEL_5cb604100db647fc9f7bff664341ae9a",
            "value": " 70/70 [46:58&lt;00:00, 41.50s/it]"
          }
        },
        "6514e9848aa9486f8516e93fb0415980": {
          "model_module": "@jupyter-widgets/base",
          "model_name": "LayoutModel",
          "model_module_version": "1.2.0",
          "state": {
            "_model_module": "@jupyter-widgets/base",
            "_model_module_version": "1.2.0",
            "_model_name": "LayoutModel",
            "_view_count": null,
            "_view_module": "@jupyter-widgets/base",
            "_view_module_version": "1.2.0",
            "_view_name": "LayoutView",
            "align_content": null,
            "align_items": null,
            "align_self": null,
            "border": null,
            "bottom": null,
            "display": null,
            "flex": null,
            "flex_flow": null,
            "grid_area": null,
            "grid_auto_columns": null,
            "grid_auto_flow": null,
            "grid_auto_rows": null,
            "grid_column": null,
            "grid_gap": null,
            "grid_row": null,
            "grid_template_areas": null,
            "grid_template_columns": null,
            "grid_template_rows": null,
            "height": null,
            "justify_content": null,
            "justify_items": null,
            "left": null,
            "margin": null,
            "max_height": null,
            "max_width": null,
            "min_height": null,
            "min_width": null,
            "object_fit": null,
            "object_position": null,
            "order": null,
            "overflow": null,
            "overflow_x": null,
            "overflow_y": null,
            "padding": null,
            "right": null,
            "top": null,
            "visibility": null,
            "width": null
          }
        },
        "df188165512c4eb592005399604e1a15": {
          "model_module": "@jupyter-widgets/base",
          "model_name": "LayoutModel",
          "model_module_version": "1.2.0",
          "state": {
            "_model_module": "@jupyter-widgets/base",
            "_model_module_version": "1.2.0",
            "_model_name": "LayoutModel",
            "_view_count": null,
            "_view_module": "@jupyter-widgets/base",
            "_view_module_version": "1.2.0",
            "_view_name": "LayoutView",
            "align_content": null,
            "align_items": null,
            "align_self": null,
            "border": null,
            "bottom": null,
            "display": null,
            "flex": null,
            "flex_flow": null,
            "grid_area": null,
            "grid_auto_columns": null,
            "grid_auto_flow": null,
            "grid_auto_rows": null,
            "grid_column": null,
            "grid_gap": null,
            "grid_row": null,
            "grid_template_areas": null,
            "grid_template_columns": null,
            "grid_template_rows": null,
            "height": null,
            "justify_content": null,
            "justify_items": null,
            "left": null,
            "margin": null,
            "max_height": null,
            "max_width": null,
            "min_height": null,
            "min_width": null,
            "object_fit": null,
            "object_position": null,
            "order": null,
            "overflow": null,
            "overflow_x": null,
            "overflow_y": null,
            "padding": null,
            "right": null,
            "top": null,
            "visibility": null,
            "width": null
          }
        },
        "37557bfd2c9a4004ae6dceee67eb9729": {
          "model_module": "@jupyter-widgets/controls",
          "model_name": "DescriptionStyleModel",
          "model_module_version": "1.5.0",
          "state": {
            "_model_module": "@jupyter-widgets/controls",
            "_model_module_version": "1.5.0",
            "_model_name": "DescriptionStyleModel",
            "_view_count": null,
            "_view_module": "@jupyter-widgets/base",
            "_view_module_version": "1.2.0",
            "_view_name": "StyleView",
            "description_width": ""
          }
        },
        "9cf8b258acfb4ab9bffb89f92388567b": {
          "model_module": "@jupyter-widgets/base",
          "model_name": "LayoutModel",
          "model_module_version": "1.2.0",
          "state": {
            "_model_module": "@jupyter-widgets/base",
            "_model_module_version": "1.2.0",
            "_model_name": "LayoutModel",
            "_view_count": null,
            "_view_module": "@jupyter-widgets/base",
            "_view_module_version": "1.2.0",
            "_view_name": "LayoutView",
            "align_content": null,
            "align_items": null,
            "align_self": null,
            "border": null,
            "bottom": null,
            "display": null,
            "flex": null,
            "flex_flow": null,
            "grid_area": null,
            "grid_auto_columns": null,
            "grid_auto_flow": null,
            "grid_auto_rows": null,
            "grid_column": null,
            "grid_gap": null,
            "grid_row": null,
            "grid_template_areas": null,
            "grid_template_columns": null,
            "grid_template_rows": null,
            "height": null,
            "justify_content": null,
            "justify_items": null,
            "left": null,
            "margin": null,
            "max_height": null,
            "max_width": null,
            "min_height": null,
            "min_width": null,
            "object_fit": null,
            "object_position": null,
            "order": null,
            "overflow": null,
            "overflow_x": null,
            "overflow_y": null,
            "padding": null,
            "right": null,
            "top": null,
            "visibility": null,
            "width": null
          }
        },
        "4ccf13c26d9f4d1ead362ed0c8473786": {
          "model_module": "@jupyter-widgets/controls",
          "model_name": "ProgressStyleModel",
          "model_module_version": "1.5.0",
          "state": {
            "_model_module": "@jupyter-widgets/controls",
            "_model_module_version": "1.5.0",
            "_model_name": "ProgressStyleModel",
            "_view_count": null,
            "_view_module": "@jupyter-widgets/base",
            "_view_module_version": "1.2.0",
            "_view_name": "StyleView",
            "bar_color": null,
            "description_width": ""
          }
        },
        "add4cc9b207a4d64b19da0af45efbbd6": {
          "model_module": "@jupyter-widgets/base",
          "model_name": "LayoutModel",
          "model_module_version": "1.2.0",
          "state": {
            "_model_module": "@jupyter-widgets/base",
            "_model_module_version": "1.2.0",
            "_model_name": "LayoutModel",
            "_view_count": null,
            "_view_module": "@jupyter-widgets/base",
            "_view_module_version": "1.2.0",
            "_view_name": "LayoutView",
            "align_content": null,
            "align_items": null,
            "align_self": null,
            "border": null,
            "bottom": null,
            "display": null,
            "flex": null,
            "flex_flow": null,
            "grid_area": null,
            "grid_auto_columns": null,
            "grid_auto_flow": null,
            "grid_auto_rows": null,
            "grid_column": null,
            "grid_gap": null,
            "grid_row": null,
            "grid_template_areas": null,
            "grid_template_columns": null,
            "grid_template_rows": null,
            "height": null,
            "justify_content": null,
            "justify_items": null,
            "left": null,
            "margin": null,
            "max_height": null,
            "max_width": null,
            "min_height": null,
            "min_width": null,
            "object_fit": null,
            "object_position": null,
            "order": null,
            "overflow": null,
            "overflow_x": null,
            "overflow_y": null,
            "padding": null,
            "right": null,
            "top": null,
            "visibility": null,
            "width": null
          }
        },
        "5cb604100db647fc9f7bff664341ae9a": {
          "model_module": "@jupyter-widgets/controls",
          "model_name": "DescriptionStyleModel",
          "model_module_version": "1.5.0",
          "state": {
            "_model_module": "@jupyter-widgets/controls",
            "_model_module_version": "1.5.0",
            "_model_name": "DescriptionStyleModel",
            "_view_count": null,
            "_view_module": "@jupyter-widgets/base",
            "_view_module_version": "1.2.0",
            "_view_name": "StyleView",
            "description_width": ""
          }
        }
      }
    }
  },
  "nbformat": 4,
  "nbformat_minor": 0
}